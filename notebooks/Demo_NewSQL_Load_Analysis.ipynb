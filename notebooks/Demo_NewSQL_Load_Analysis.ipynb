{
 "cells": [
  {
   "cell_type": "markdown",
   "id": "b6b2f0b9-6211-4f79-9f27-152cad037e70",
   "metadata": {},
   "source": [
    "<header style=\"padding:10px;background:#f9f9f9;border-top:3px solid #00b2b1\"><img id=\"Teradata-logo\" src=\"https://www.teradata.com/Teradata/Images/Rebrand/Teradata_logo-two_color.png\" alt=\"Teradata\" width=\"220\" align=\"right\" />\n",
    "\n",
    "## NewSQL Analytic Functions using TeradataML \n",
    "### Load, Prepare and Analyze Data At Scale\n",
    "</header>"
   ]
  },
  {
   "cell_type": "markdown",
   "id": "be16a55c-614b-4e03-935b-832a7670215b",
   "metadata": {},
   "source": [
    "**Contenido**\n",
    "1. Connect to the Vantage environment. Replace any hosts, schemas, usernames, etc. as necessary.\n",
    "2. Create and Load Tables from source data sets.\n",
    "3. Basic Data Discovery.  Metadata and feature analysis\n",
    "4. Working with Data - aggregations, joins, and basic transformations.\n",
    "5. Advanced Data Preparation - column assignments using complex functions.\n",
    "6. Visualizing results.\n",
    "\n",
    "## Architecture of the Teradataml package\n",
    "Teradataml seeks to provide easy-to-use interfaces for working with data that resides in a Teradata Vantage system.  Typically, Python developers will make use of common, powerful data management functions using libraries like python pandas.  Teradataml extends these same functions to the Teradata ecosystem, allowing users to apply straightforward, powerful analytics and data manipulation functions that leverage the full power and scale of Vantage without data movement or limitations on client resources without writing complex SQL.\n",
    "\n",
    "**Referencias**\n",
    "* Python Package User Guide: https://docs.teradata.com/r/1YKutX2ODdO9ppo_fnguTA/root\n",
    "* Teradataml Python Reference: https://docs.teradata.com/r/xLnbN80h9C6037gi3ildag/root\n"
   ]
  },
  {
   "cell_type": "code",
   "execution_count": null,
   "id": "e5393c1e-fbc0-461c-b50a-93d59586fcf1",
   "metadata": {},
   "outputs": [],
   "source": [
    "import json\n",
    "import warnings\n",
    "import pandas as pd\n",
    "import seaborn as sns\n",
    "import matplotlib.pyplot as plt\n",
    "%matplotlib inline\n",
    "import numpy as np\n",
    "warnings.filterwarnings('ignore')\n",
    "\n",
    "from teradataml import DataFrame, in_schema, create_context, remove_context, copy_to_sql, fastload\n",
    "from sqlalchemy import create_engine\n",
    "from sqlalchemy import func"
   ]
  },
  {
   "cell_type": "markdown",
   "id": "1fdcaaaa-ba5b-4a6d-8786-356940bafe6d",
   "metadata": {},
   "source": [
    "# Section 1.  Connecting to the Database\n",
    "With Teradataml, we create a connection context with parameters controlling default schemas, temporary database for creating views, etc."
   ]
  },
  {
   "cell_type": "code",
   "execution_count": null,
   "id": "91634ef6-1f21-464e-a2fd-b6a60607f0e7",
   "metadata": {},
   "outputs": [],
   "source": [
    "%run -i /home/jovyan/JupyterLabRoot/UseCases/startup.ipynb\n",
    "eng = create_context(host = 'host.docker.internal', username='demo_user', password = password)\n",
    "print(eng)"
   ]
  },
  {
   "cell_type": "markdown",
   "id": "bd2bfed4-599c-4f4f-ac28-094aa3557f96",
   "metadata": {},
   "source": [
    "# Section 2. - Create and Load Tables\n",
    "\n",
    "## Load Sample Data from plain Files"
   ]
  },
  {
   "cell_type": "code",
   "execution_count": null,
   "id": "7f7b554d-a1af-4a30-b0c0-33b25ab449b7",
   "metadata": {},
   "outputs": [],
   "source": [
    "qry = '''\n",
    "CREATE TABLE CALL_CENTER_CALLS\n",
    "(\n",
    "    CALL_ID VARCHAR(20),\n",
    "    CUSTOMER_ID DECIMAL(18,0),\n",
    "    CC_REP_ID DECIMAL(18,0),\n",
    "    CC_CALL_DT TIMESTAMP(6),\n",
    "    CALL_TYPE VARCHAR(50)\n",
    ");\n",
    "'''\n",
    "eng.execute(qry)"
   ]
  },
  {
   "cell_type": "code",
   "execution_count": null,
   "id": "62e2b264-97cf-4ccf-b193-beab7edf6979",
   "metadata": {},
   "outputs": [],
   "source": [
    "copy_to_sql(pd.read_csv('../data/CALL_CENTER_CALLS.csv'), table_name='CALL_CENTER_CALLS')"
   ]
  },
  {
   "cell_type": "code",
   "execution_count": null,
   "id": "40ea875f-2643-4fa0-8c0d-e4346ea80733",
   "metadata": {},
   "outputs": [],
   "source": [
    "qry = '''\n",
    "CREATE TABLE STORE_VISIT\n",
    "(\n",
    "    STORE_ID DECIMAL(18,0),\n",
    "    CUSTOMER_ID DECIMAL(18,0),\n",
    "    VISIT_DT TIMESTAMP(6),\n",
    "    ACTION VARCHAR(50)\n",
    ");\n",
    "'''\n",
    "eng.execute(qry)"
   ]
  },
  {
   "cell_type": "code",
   "execution_count": null,
   "id": "3f7ab7a0-2b21-433e-8be4-e8b8c35cf0f7",
   "metadata": {},
   "outputs": [],
   "source": [
    "copy_to_sql(pd.read_csv('../data/STORE_VISIT.csv'), table_name='STORE_VISIT')"
   ]
  },
  {
   "cell_type": "code",
   "execution_count": null,
   "id": "4f390b68-28ac-48e4-9246-441ede2ff070",
   "metadata": {},
   "outputs": [],
   "source": [
    "qry = '''\n",
    "CREATE TABLE WEB \n",
    "     (\n",
    "     CUSTOMER_ID DECIMAL(18,0) NOT NULL,\n",
    "     SERVER_ID VARCHAR(5) NOT NULL,\n",
    "     PAGE VARCHAR(50),\n",
    "     BROWSE_ID VARCHAR(20)\n",
    "     )\n",
    "PRIMARY TIME INDEX (TIMESTAMP(6), DATE '2016-01-01', MINUTES(1), COLUMNS (SERVER_ID), NONSEQUENCED); \n",
    "'''\n",
    "eng.execute(qry)"
   ]
  },
  {
   "cell_type": "code",
   "execution_count": null,
   "id": "f9f6526d-fb05-47a0-aa21-4108f6ef44ce",
   "metadata": {},
   "outputs": [],
   "source": [
    "copy_to_sql(pd.read_csv('../data/WEB.csv'), table_name='WEB')"
   ]
  },
  {
   "cell_type": "code",
   "execution_count": null,
   "id": "6cf6b225-de06-4f1c-b058-27e067fa0289",
   "metadata": {},
   "outputs": [],
   "source": [
    "qry = '''\n",
    "CREATE MULTISET TABLE CUSTOMER\n",
    "(\n",
    "    CUSTOMER_ID DECIMAL(18,0) NOT NULL,\n",
    "    F_NAME VARCHAR(30),\n",
    "    L_NAME VARCHAR(30),\n",
    "    VALIDITY PERIOD(DATE) FORMAT 'YYYY-MM-DD' AS VALIDTIME,\n",
    "    CUST_ZIP VARCHAR(5),\n",
    "    CUST_LOCATION ST_GEOMETRY,\n",
    "    ETHNICITY VARCHAR(20),\n",
    "    GENDER CHAR(1),\n",
    "    CHURN_FLAG VARCHAR(1)\n",
    ")\n",
    "INDEX(CUST_LOCATION);\n",
    "'''\n",
    "# Execute Query\n",
    "eng.execute(qry)"
   ]
  },
  {
   "cell_type": "code",
   "execution_count": null,
   "id": "37510820-07ae-43a3-9658-41b8992f9a78",
   "metadata": {},
   "outputs": [],
   "source": [
    "copy_to_sql(pd.read_csv('../data/CUSTOMER.txt', sep='\\t'), table_name='CUSTOMER')"
   ]
  },
  {
   "cell_type": "code",
   "execution_count": null,
   "id": "565e3e98-4df0-499b-b917-965b4720bae1",
   "metadata": {},
   "outputs": [],
   "source": [
    "qry = '''\n",
    "CREATE TABLE CUST_COMMENT\n",
    "(\n",
    "    COMMENT_ID VARCHAR(20),\n",
    "    CUSTOMER_ID DECIMAL(18,0),\n",
    "    COMMENT_DT TIMESTAMP(6),\n",
    "    CHANNEL_TYPE VARCHAR(1),\n",
    "    CHANNEL_ID VARCHAR(20),\n",
    "    COMMENT_TEXT CLOB\n",
    ")\n",
    "INDEX(CUSTOMER_ID);\n",
    "'''\n",
    "eng.execute(qry)"
   ]
  },
  {
   "cell_type": "code",
   "execution_count": null,
   "id": "87131c1a-319d-4f8b-9d99-842a164062b2",
   "metadata": {},
   "outputs": [],
   "source": [
    "copy_to_sql(pd.read_csv('../data/CUST_COMMENT.csv'), table_name='CUST_COMMENT')"
   ]
  },
  {
   "cell_type": "code",
   "execution_count": null,
   "id": "452e3b88-6d72-44c5-8df0-f0c84df2b338",
   "metadata": {},
   "outputs": [],
   "source": [
    "## copy_to_sql(pd.read_csv('CUST_COMMENT.csv'), table_name='CUST_COMMENT', index = True, index_label = 'CUSTOMER_ID', if_exists = 'replace', types = {'COMMENT_ID': VARCHAR, 'CUSTOMER_ID': DECIMAL, 'COMMENT_DT': TIMESTAMP, 'CHANNEL_TYPE': VARCHAR, 'CHANNEL_ID': VARCHAR, 'COMMENT_TEXT': CLOB})"
   ]
  },
  {
   "cell_type": "code",
   "execution_count": null,
   "id": "c5e13e30-1df0-491f-a71e-854baaff6728",
   "metadata": {},
   "outputs": [],
   "source": [
    "qry = '''\n",
    "CREATE TABLE STORE\n",
    "(\n",
    "    STORE_ID DECIMAL(18,0) NOT NULL,\n",
    "    STORE_DESC VARCHAR(80),\n",
    "    STORE_ZIP VARCHAR(5),\n",
    "    STORE_LOCATION ST_GEOMETRY\n",
    ")\n",
    "INDEX(STORE_LOCATION);\n",
    "'''\n",
    "eng.execute(qry)"
   ]
  },
  {
   "cell_type": "code",
   "execution_count": null,
   "id": "be67e091-e463-407e-ba1e-7729aed32998",
   "metadata": {},
   "outputs": [],
   "source": [
    "srvr = pd.read_csv('../data/STORE.csv')\n",
    "srvr.rename(columns = {'STORE ZIP':'STORE_ZIP'}, inplace = True)\n",
    "copy_to_sql(srvr, table_name='STORE')"
   ]
  },
  {
   "cell_type": "code",
   "execution_count": null,
   "id": "5ff81a97-8c67-4034-a0ed-420966801884",
   "metadata": {},
   "outputs": [],
   "source": [
    "qry = '''\n",
    "CREATE MULTISET TABLE SERVER\n",
    "(\n",
    "    SERVER_ID VARCHAR(5) NOT NULL,\n",
    "    SERVER_ZIP VARCHAR(5),\n",
    "    SERVER_LOCATION ST_GEOMETRY\n",
    ")\n",
    "INDEX (SERVER_LOCATION);\n",
    "'''\n",
    "eng.execute(qry)"
   ]
  },
  {
   "cell_type": "code",
   "execution_count": null,
   "id": "0ae07588-4366-4ccd-a8a6-72762d3be361",
   "metadata": {},
   "outputs": [],
   "source": [
    "srvr = pd.read_csv('../data/SERVER.csv')\n",
    "srvr.rename(columns = {'SERVER ZIP':'SERVER_ZIP','SERVER_LAT':'SERVER_LOCATION'}, inplace = True)\n",
    "copy_to_sql(srvr, table_name='SERVER')"
   ]
  },
  {
   "cell_type": "markdown",
   "id": "f3c6d4d1-9c51-49dd-9ec8-7c2b11be642f",
   "metadata": {},
   "source": [
    "# Section 3 - Data Discovery\n",
    "\n",
    "### Look at table statistics, sample data, simple lookups\n",
    "One of the most powerful features of the teradtaml functions is that they push processing down to the Teradata system, allowing users to perform analysis without pulling all the data back to the client."
   ]
  },
  {
   "cell_type": "code",
   "execution_count": null,
   "id": "b662630e-5208-4c56-965e-55f7906355c1",
   "metadata": {},
   "outputs": [],
   "source": [
    "ccc = DataFrame('CALL_CENTER_CALLS')"
   ]
  },
  {
   "cell_type": "code",
   "execution_count": null,
   "id": "9fc6d83f-12bd-43cb-a097-fbd70acef085",
   "metadata": {},
   "outputs": [],
   "source": [
    "ccc.head(5)"
   ]
  },
  {
   "cell_type": "code",
   "execution_count": null,
   "id": "321a6ece-cc6a-4cda-9885-c779da423667",
   "metadata": {},
   "outputs": [],
   "source": [
    "ccc.head(5).show_query()"
   ]
  },
  {
   "cell_type": "code",
   "execution_count": null,
   "id": "fe542748-8d01-4307-9ea7-7921fb29f863",
   "metadata": {},
   "outputs": [],
   "source": [
    "ccc.shape"
   ]
  },
  {
   "cell_type": "code",
   "execution_count": null,
   "id": "4dd7cfc1-3df1-45f1-8d96-467f186dbe18",
   "metadata": {},
   "outputs": [],
   "source": [
    "ccc.loc[ccc.CUSTOMER_ID == 1455].filter(items = ['CC_REP_ID', 'CC_CALL_DT', 'CALL_TYPE']).sort('CC_CALL_DT')"
   ]
  },
  {
   "cell_type": "code",
   "execution_count": null,
   "id": "1d3b4a30-4107-4c41-b45e-ea0dd5e7c102",
   "metadata": {},
   "outputs": [],
   "source": [
    "ccc.loc[(ccc.CUSTOMER_ID == 1455) | (ccc.CUSTOMER_ID == 1526)].filter(items = ['CUSTOMER_ID', 'CC_CALL_DT', 'CALL_TYPE']).sort(['CUSTOMER_ID', 'CC_CALL_DT'])"
   ]
  },
  {
   "cell_type": "markdown",
   "id": "4d6db8d2-f472-4c58-937c-fc47a3ae1b75",
   "metadata": {},
   "source": [
    "# Section 4 - Working with Data at Scale\n",
    "Act on our data sets without having to return all of the data, and leverage the computing power of the Teradata Vantage cluster.\n",
    "\n",
    "## 4.1 Aggregations\n",
    "We can use these \"fluent\" methods to keep the code as brief and expressive as possible"
   ]
  },
  {
   "cell_type": "code",
   "execution_count": null,
   "id": "6fed7c68-99d8-4e0b-98d2-8752771ac036",
   "metadata": {},
   "outputs": [],
   "source": [
    "ccc.filter(items = ['CUSTOMER_ID','CALL_TYPE']).groupby('CALL_TYPE').count()"
   ]
  },
  {
   "cell_type": "code",
   "execution_count": null,
   "id": "918d6f48-3d5e-4779-8719-4417e99946d1",
   "metadata": {},
   "outputs": [],
   "source": [
    "frq_call_type = ccc.filter(items = ['CUSTOMER_ID','CALL_TYPE']).groupby('CALL_TYPE').count().sort('CALL_TYPE', False).to_pandas()"
   ]
  },
  {
   "cell_type": "code",
   "execution_count": null,
   "id": "fe582ad3-abdf-4234-90b4-bef773087724",
   "metadata": {},
   "outputs": [],
   "source": [
    "frq_call_type.dtypes"
   ]
  },
  {
   "cell_type": "code",
   "execution_count": null,
   "id": "323f6711-fb46-4f90-8318-33d02b364562",
   "metadata": {},
   "outputs": [],
   "source": [
    "import plotly.express as px\n",
    "fig = px.bar(frq_call_type, x='CALL_TYPE', y='count_CUSTOMER_ID')\n",
    "##fig.update_xaxes(tickangle = 0, title='Tipo de Llamada')\n",
    "fig.update_yaxes(title=\"Frecuencia\")  \n",
    "fig.show()"
   ]
  },
  {
   "cell_type": "markdown",
   "id": "e0a3e3ad-fd43-427f-88f3-a4c9fcd20bf7",
   "metadata": {},
   "source": [
    "## 4.2 Simple Transformations\n",
    "Create new \"Virtual Dataframes\" that are the result of dropping columns or adding new ones via simple expressions"
   ]
  },
  {
   "cell_type": "code",
   "execution_count": null,
   "id": "0b33fbf5-ccdf-445d-8585-a76be03b8f14",
   "metadata": {},
   "outputs": [],
   "source": []
  },
  {
   "cell_type": "code",
   "execution_count": null,
   "id": "73e7ff55-ae5a-450d-8cc8-6a0c45267021",
   "metadata": {},
   "outputs": [],
   "source": []
  },
  {
   "cell_type": "markdown",
   "id": "94ae3267-fdbb-432a-8229-37df3d2bb642",
   "metadata": {},
   "source": [
    "## 4.3 Joins\n",
    "Join dataframes using python pandas-style join methods"
   ]
  },
  {
   "cell_type": "code",
   "execution_count": null,
   "id": "b758f5c8-49ca-4be9-9e00-9ca31d1097cd",
   "metadata": {},
   "outputs": [],
   "source": [
    "tdf_customer = DataFrame('CUSTOMER')\n",
    "print(tdf_customer.head(5))\n",
    "tdf_cust_comment = DataFrame('CUST_COMMENT')\n",
    "print(tdf_cust_comment.head(5))"
   ]
  },
  {
   "cell_type": "code",
   "execution_count": null,
   "id": "6c66259f-db88-4b6b-9b1c-49e1e7c08917",
   "metadata": {},
   "outputs": [],
   "source": [
    "tdf_comment_full = tdf_cust_comment.join(other = tdf_customer, \n",
    "                                         on = ['CUSTOMER_ID = CUSTOMER_ID'], \n",
    "                                         how = 'inner', \n",
    "                                         lsuffix = 'cID_', \n",
    "                                         rsuffix = 'cOM_')\n",
    "tdf_comment_full.drop(['COMMENT_ID', 'cOM__CUSTOMER_ID', 'CHANNEL_ID', 'GENDER', 'CHANNEL_TYPE', 'ETHNICITY', 'VALIDITY'], axis = 1)"
   ]
  },
  {
   "cell_type": "code",
   "execution_count": null,
   "id": "03e52bb2-26b3-4cda-bf98-51c1b8d28196",
   "metadata": {},
   "outputs": [],
   "source": []
  },
  {
   "cell_type": "code",
   "execution_count": null,
   "id": "e44dc284-cfc0-421a-9b94-8ad78ea6615d",
   "metadata": {},
   "outputs": [],
   "source": []
  },
  {
   "cell_type": "markdown",
   "id": "339b4cc5-1925-49e4-b93e-094cab4e36b4",
   "metadata": {},
   "source": [
    "## 5 - Visualizations\n",
    "## 5.1 - Example - Geospatial query to return plottable data\n",
    "Use a limited SQL statement to generate my dataframe"
   ]
  },
  {
   "cell_type": "code",
   "execution_count": null,
   "id": "3c29cfc2-10f0-4761-9a0a-b1d4e9d24e73",
   "metadata": {},
   "outputs": [],
   "source": []
  },
  {
   "cell_type": "code",
   "execution_count": null,
   "id": "0fc5f03b-1c8d-43cf-be9d-450dcc13536b",
   "metadata": {},
   "outputs": [],
   "source": []
  },
  {
   "cell_type": "code",
   "execution_count": null,
   "id": "dde84f0e-2623-49f9-8c25-9fd742edf110",
   "metadata": {},
   "outputs": [],
   "source": []
  },
  {
   "cell_type": "code",
   "execution_count": null,
   "id": "89215c84-aeff-4139-88d6-f49e6ca6eb98",
   "metadata": {},
   "outputs": [],
   "source": [
    "qry = '''\n",
    "SELECT C.CUSTOMER_ID, \n",
    "  S.SERVER_ID, \n",
    "  CAST(C.CUST_LOCATION.ST_SphericalDistance(S.SERVER_LOCATION)/1000 AS DECIMAL(10,0))AS KM_DISTANCE \n",
    "FROM CUSTOMER C, SERVER S\n",
    "'''\n",
    "\n",
    "tdf_distance = DataFrame.from_query(qry)"
   ]
  },
  {
   "cell_type": "code",
   "execution_count": null,
   "id": "e1341f9b-0a76-4815-81b6-51c62f36b35d",
   "metadata": {},
   "outputs": [],
   "source": [
    "tdf_distance.head()"
   ]
  },
  {
   "cell_type": "code",
   "execution_count": null,
   "id": "14834502-ca09-45ac-91be-ae25df03617f",
   "metadata": {},
   "outputs": [],
   "source": [
    "tdf_distance.sort('KM_DISTANCE', ascending = False)"
   ]
  },
  {
   "cell_type": "code",
   "execution_count": null,
   "id": "0ae62fe9-84ae-41f0-80c9-f9fc6482f06b",
   "metadata": {},
   "outputs": [],
   "source": [
    "sns.distplot(tdf_distance.to_pandas()['KM_DISTANCE'].astype(float), bins=50);"
   ]
  },
  {
   "cell_type": "code",
   "execution_count": null,
   "id": "bbaea068-0d9e-4529-a2eb-26614151ba3d",
   "metadata": {},
   "outputs": [],
   "source": []
  },
  {
   "cell_type": "code",
   "execution_count": null,
   "id": "bb04f3f0-f004-4e1f-8fe9-dd14c5f34bf5",
   "metadata": {},
   "outputs": [],
   "source": []
  },
  {
   "cell_type": "code",
   "execution_count": null,
   "id": "caa9ebf7-3ea3-45d6-862f-a3c98b8736ff",
   "metadata": {},
   "outputs": [],
   "source": []
  },
  {
   "cell_type": "code",
   "execution_count": null,
   "id": "48b55a84-7902-48b6-b68d-38b9e114b238",
   "metadata": {},
   "outputs": [],
   "source": []
  },
  {
   "cell_type": "code",
   "execution_count": null,
   "id": "5f7923e8-6022-4286-81ad-4b4375ed49ed",
   "metadata": {},
   "outputs": [],
   "source": [
    "eng.execute(\"DROP TABLE CALL_CENTER_CALLS;\")"
   ]
  },
  {
   "cell_type": "code",
   "execution_count": null,
   "id": "f0cfbe53-db00-4e24-9e40-395f7c2a63d2",
   "metadata": {},
   "outputs": [],
   "source": [
    "eng.execute(\"DROP TABLE STORE_VISIT;\")"
   ]
  },
  {
   "cell_type": "code",
   "execution_count": null,
   "id": "b4a5a0bb-2b1f-4759-955f-c1e87b79bed9",
   "metadata": {},
   "outputs": [],
   "source": [
    "eng.execute(\"DROP TABLE WEB;\")"
   ]
  },
  {
   "cell_type": "code",
   "execution_count": null,
   "id": "8859f850-e03b-456f-be2e-e94da01e4d30",
   "metadata": {},
   "outputs": [],
   "source": [
    "eng.execute(\"DROP TABLE STORE;\")"
   ]
  },
  {
   "cell_type": "code",
   "execution_count": null,
   "id": "8b5b4de4-4ead-44e4-b229-c437f468553b",
   "metadata": {},
   "outputs": [],
   "source": [
    "eng.execute(\"DROP TABLE CUSTOMER;\")"
   ]
  },
  {
   "cell_type": "code",
   "execution_count": null,
   "id": "b648fe72-944e-4d5f-9bae-075a0445c6db",
   "metadata": {},
   "outputs": [],
   "source": [
    "eng.execute(\"DROP TABLE CUST_COMMENT;\")"
   ]
  },
  {
   "cell_type": "code",
   "execution_count": null,
   "id": "160eb6e9-0b3a-4da3-931b-605e32fe0305",
   "metadata": {},
   "outputs": [],
   "source": [
    "eng.execute(\"DROP TABLE SERVER;\")"
   ]
  },
  {
   "cell_type": "code",
   "execution_count": null,
   "id": "513cb74d-f684-4f03-9b08-e704b14cffa2",
   "metadata": {},
   "outputs": [],
   "source": [
    "remove_context()"
   ]
  },
  {
   "cell_type": "code",
   "execution_count": null,
   "id": "872aee91-bfda-4c22-8aad-5c6b60e0e36f",
   "metadata": {},
   "outputs": [],
   "source": []
  }
 ],
 "metadata": {
  "kernelspec": {
   "display_name": "Python 3 (ipykernel)",
   "language": "python",
   "name": "python3"
  },
  "language_info": {
   "codemirror_mode": {
    "name": "ipython",
    "version": 3
   },
   "file_extension": ".py",
   "mimetype": "text/x-python",
   "name": "python",
   "nbconvert_exporter": "python",
   "pygments_lexer": "ipython3",
   "version": "3.9.10"
  }
 },
 "nbformat": 4,
 "nbformat_minor": 5
}
