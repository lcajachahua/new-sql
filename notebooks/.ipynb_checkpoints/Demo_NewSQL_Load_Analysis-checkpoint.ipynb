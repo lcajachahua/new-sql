{
 "cells": [
  {
   "cell_type": "markdown",
   "id": "b6b2f0b9-6211-4f79-9f27-152cad037e70",
   "metadata": {},
   "source": [
    "<header style=\"padding:10px;background:#f9f9f9;border-top:3px solid #00b2b1\"><img id=\"Teradata-logo\" src=\"https://www.teradata.com/Teradata/Images/Rebrand/Teradata_logo-two_color.png\" alt=\"Teradata\" width=\"220\" align=\"right\" />\n",
    "\n",
    "## NewSQL Analytic Functions \n",
    "### Load, Prepare and Analyze Data At Scale\n",
    "</header>"
   ]
  },
  {
   "cell_type": "markdown",
   "id": "be16a55c-614b-4e03-935b-832a7670215b",
   "metadata": {},
   "source": [
    "**Contenido**\n",
    "1. Connect to the Vantage environment. Replace any hosts, schemas, usernames, etc. as necessary.\n",
    "2. Create and Load Tables from source data sets.\n",
    "3. Basic Data Discovery.  Metadata and feature analysis\n",
    "4. Working with Data - aggregations, joins, and basic transformations.\n",
    "5. Advanced Data Preparation - column assignments using complex functions.\n",
    "6. Visualizing results.\n",
    "\n",
    "## Architecture of the Teradataml package\n",
    "Teradataml seeks to provide easy-to-use interfaces for working with data that resides in a Teradata Vantage system.  Typically, Python developers will make use of common, powerful data management functions using libraries like python pandas.  Teradataml extends these same functions to the Teradata ecosystem, allowing users to apply straightforward, powerful analytics and data manipulation functions that leverage the full power and scale of Vantage without data movement or limitations on client resources without writing complex SQL.\n",
    "\n",
    "**Referencias**\n",
    "* Python Package User Guide: https://docs.teradata.com/r/1YKutX2ODdO9ppo_fnguTA/root\n",
    "* Teradataml Python Reference: https://docs.teradata.com/r/xLnbN80h9C6037gi3ildag/root\n"
   ]
  },
  {
   "cell_type": "markdown",
   "id": "1fdcaaaa-ba5b-4a6d-8786-356940bafe6d",
   "metadata": {},
   "source": [
    "# Section 1.  Connecting to the Database\n",
    "With Teradataml, we create a connection context with parameters controlling default schemas, temporary database for creating views, etc."
   ]
  },
  {
   "cell_type": "code",
   "execution_count": null,
   "id": "91634ef6-1f21-464e-a2fd-b6a60607f0e7",
   "metadata": {},
   "outputs": [],
   "source": [
    "%connect local, hidewarnings=true"
   ]
  },
  {
   "cell_type": "markdown",
   "id": "bd2bfed4-599c-4f4f-ac28-094aa3557f96",
   "metadata": {},
   "source": [
    "# Section 2. - Create and Load Tables\n",
    "\n",
    "## Load Sample Data from plain Files"
   ]
  },
  {
   "cell_type": "code",
   "execution_count": null,
   "id": "7f7b554d-a1af-4a30-b0c0-33b25ab449b7",
   "metadata": {},
   "outputs": [],
   "source": [
    "CREATE TABLE CALL_CENTER_CALLS\n",
    "(\n",
    "    CALL_ID VARCHAR(20),\n",
    "    CUSTOMER_ID DECIMAL(18,0),\n",
    "    CC_REP_ID DECIMAL(18,0),\n",
    "    CC_CALL_DT TIMESTAMP(6),\n",
    "    CALL_TYPE VARCHAR(50)\n",
    ");"
   ]
  },
  {
   "cell_type": "code",
   "execution_count": null,
   "id": "62e2b264-97cf-4ccf-b193-beab7edf6979",
   "metadata": {},
   "outputs": [],
   "source": [
    "%dataload DATABASE=demo_user, TABLE=CALL_CENTER_CALLS, skiprows=1, FILEPATH=new-sql/data/CALL_CENTER_CALLS.csv"
   ]
  },
  {
   "cell_type": "code",
   "execution_count": null,
   "id": "40ea875f-2643-4fa0-8c0d-e4346ea80733",
   "metadata": {},
   "outputs": [],
   "source": [
    "CREATE TABLE STORE_VISIT\n",
    "(\n",
    "    STORE_ID DECIMAL(18,0),\n",
    "    CUSTOMER_ID DECIMAL(18,0),\n",
    "    VISIT_DT TIMESTAMP(6),\n",
    "    ACTION VARCHAR(50)\n",
    ");"
   ]
  },
  {
   "cell_type": "code",
   "execution_count": null,
   "id": "3f7ab7a0-2b21-433e-8be4-e8b8c35cf0f7",
   "metadata": {},
   "outputs": [],
   "source": [
    "%dataload DATABASE=demo_user, TABLE=STORE_VISIT, skiprows=1, FILEPATH=new-sql/data/STORE_VISIT.csv"
   ]
  },
  {
   "cell_type": "code",
   "execution_count": null,
   "id": "4f390b68-28ac-48e4-9246-441ede2ff070",
   "metadata": {},
   "outputs": [],
   "source": [
    "CREATE TABLE WEB \n",
    "     (\n",
    "     CUSTOMER_ID DECIMAL(18,0) NOT NULL,\n",
    "     SERVER_ID VARCHAR(5) NOT NULL,\n",
    "     PAGE VARCHAR(50),\n",
    "     BROWSE_ID VARCHAR(20)\n",
    "     )\n",
    "PRIMARY TIME INDEX (TIMESTAMP(6), DATE '2016-01-01', MINUTES(1), COLUMNS (SERVER_ID), NONSEQUENCED); "
   ]
  },
  {
   "cell_type": "code",
   "execution_count": null,
   "id": "f9f6526d-fb05-47a0-aa21-4108f6ef44ce",
   "metadata": {},
   "outputs": [],
   "source": [
    "%dataload DATABASE=demo_user, TABLE=WEB, skiprows=1, FILEPATH=new-sql/data/WEB.csv"
   ]
  },
  {
   "cell_type": "code",
   "execution_count": null,
   "id": "6cf6b225-de06-4f1c-b058-27e067fa0289",
   "metadata": {},
   "outputs": [],
   "source": [
    "CREATE MULTISET TABLE CUSTOMER\n",
    "(\n",
    "    CUSTOMER_ID DECIMAL(18,0) NOT NULL,\n",
    "    F_NAME VARCHAR(30),\n",
    "    L_NAME VARCHAR(30),\n",
    "    CUST_ZIP VARCHAR(5),\n",
    "    VALIDITY VARCHAR(50),\n",
    "    GENDER CHAR(1),\n",
    "    CHURN_FLAG VARCHAR(1),\n",
    "    CUS_LONG FLOAT,\n",
    "    CUS_LAT FLOAT\n",
    ");"
   ]
  },
  {
   "cell_type": "code",
   "execution_count": null,
   "id": "37510820-07ae-43a3-9658-41b8992f9a78",
   "metadata": {},
   "outputs": [],
   "source": [
    "%dataload DATABASE=demo_user, TABLE=CUSTOMER, skiprows=1, FILEPATH=new-sql/data/CUSTOMER.csv"
   ]
  },
  {
   "cell_type": "code",
   "execution_count": null,
   "id": "c5e13e30-1df0-491f-a71e-854baaff6728",
   "metadata": {},
   "outputs": [],
   "source": [
    "CREATE TABLE STORE\n",
    "(\n",
    "    STORE_ID DECIMAL(18,0) NOT NULL,\n",
    "    STORE_DESC VARCHAR(80),\n",
    "    STORE_ZIP VARCHAR(5),\n",
    "    STORE_LOCATION ST_GEOMETRY\n",
    ")\n",
    "INDEX(STORE_LOCATION);"
   ]
  },
  {
   "cell_type": "code",
   "execution_count": null,
   "id": "be67e091-e463-407e-ba1e-7729aed32998",
   "metadata": {},
   "outputs": [],
   "source": [
    "%dataload DATABASE=demo_user, TABLE=STORE, skiprows=1, FILEPATH=new-sql/data/STORE.csv"
   ]
  },
  {
   "cell_type": "code",
   "execution_count": null,
   "id": "5ff81a97-8c67-4034-a0ed-420966801884",
   "metadata": {},
   "outputs": [],
   "source": [
    "CREATE MULTISET TABLE SERVER\n",
    "(\n",
    "    SERVER_ID VARCHAR(5) NOT NULL,\n",
    "    SERVER_ZIP VARCHAR(5),\n",
    "    SERVER_LOCATION ST_GEOMETRY\n",
    ")\n",
    "INDEX (SERVER_LOCATION);"
   ]
  },
  {
   "cell_type": "code",
   "execution_count": null,
   "id": "0ae07588-4366-4ccd-a8a6-72762d3be361",
   "metadata": {},
   "outputs": [],
   "source": [
    "%dataload DATABASE=demo_user, TABLE=SERVER, skiprows=1, FILEPATH=new-sql/data/SERVER.csv"
   ]
  },
  {
   "cell_type": "markdown",
   "id": "f3c6d4d1-9c51-49dd-9ec8-7c2b11be642f",
   "metadata": {},
   "source": [
    "# Section 3 - Data Discovery\n",
    "\n",
    "### Look at table statistics, sample data, simple exploration"
   ]
  },
  {
   "cell_type": "code",
   "execution_count": null,
   "id": "b662630e-5208-4c56-965e-55f7906355c1",
   "metadata": {},
   "outputs": [],
   "source": [
    "SEL * FROM CUSTOMER SAMPLE 10;"
   ]
  },
  {
   "cell_type": "code",
   "execution_count": null,
   "id": "9fc6d83f-12bd-43cb-a097-fbd70acef085",
   "metadata": {},
   "outputs": [],
   "source": [
    "SELECT * FROM TD_ColumnSummary (\n",
    "  ON CUSTOMER AS InputTable\n",
    "  USING\n",
    "  TargetColumns ('L_NAME','GENDER','CHURN_FLAG','CUS_LONG','CUS_LAT')\n",
    ") AS dt;"
   ]
  },
  {
   "cell_type": "code",
   "execution_count": null,
   "id": "55c7a605-3f3c-4ee8-b552-2d9faec6cf97",
   "metadata": {},
   "outputs": [],
   "source": [
    "SELECT * FROM TD_CategoricalSummary (\n",
    "  ON CUSTOMER AS InputTable\n",
    "  USING\n",
    "  TargetColumns ('GENDER','CHURN_FLAG')\n",
    ") AS dt ORDER BY 1,2;"
   ]
  },
  {
   "cell_type": "code",
   "execution_count": null,
   "id": "321a6ece-cc6a-4cda-9885-c779da423667",
   "metadata": {},
   "outputs": [],
   "source": [
    "SELECT * FROM TD_UnivariateStatistics (\n",
    "  ON CUSTOMER AS InputTable\n",
    "  USING\n",
    "  TargetColumns ('CUS_LONG','CUS_LAT')\n",
    ") AS dt ORDER BY 1,2;"
   ]
  },
  {
   "cell_type": "markdown",
   "id": "4d6db8d2-f472-4c58-937c-fc47a3ae1b75",
   "metadata": {},
   "source": [
    "# Section 4 - Data Analysis\n",
    "\n",
    "### Data Aggregations and Plotting"
   ]
  },
  {
   "cell_type": "code",
   "execution_count": null,
   "id": "6fed7c68-99d8-4e0b-98d2-8752771ac036",
   "metadata": {},
   "outputs": [],
   "source": [
    "SELECT CALL_TYPE, COUNT(1) N FROM CALL_CENTER_CALLS GROUP BY 1 ORDER BY 2 DESC;"
   ]
  },
  {
   "cell_type": "code",
   "execution_count": null,
   "id": "918d6f48-3d5e-4779-8719-4417e99946d1",
   "metadata": {},
   "outputs": [],
   "source": [
    "%chart CALL_TYPE, N"
   ]
  },
  {
   "cell_type": "code",
   "execution_count": null,
   "id": "fe582ad3-abdf-4234-90b4-bef773087724",
   "metadata": {},
   "outputs": [],
   "source": [
    "%chart CALL_TYPE, N, Title= FREQ BY CALL TYPE, Height=400, Width=800"
   ]
  },
  {
   "cell_type": "markdown",
   "id": "e0a3e3ad-fd43-427f-88f3-a4c9fcd20bf7",
   "metadata": {},
   "source": [
    "### Building the Customer Events Table (Customer 360)"
   ]
  },
  {
   "cell_type": "code",
   "execution_count": null,
   "id": "0b33fbf5-ccdf-445d-8585-a76be03b8f14",
   "metadata": {},
   "outputs": [],
   "source": [
    "CREATE TABLE RETAIL_COMPNEW\n",
    "(CUSTOMER_ID,DATESTAMP,EVENT,CHURN_FLAG) AS \n",
    "(SELECT CU.CUSTOMER_ID AS CUSTOMER_ID\n",
    "    ,CC.CC_CALL_DT AS DATESTAMP\n",
    "    ,CC.CALL_TYPE AS EVENT\n",
    "    ,CU.CHURN_FLAG AS CHURN_FLAG\n",
    "FROM CUSTOMER CU, CALL_CENTER_CALLS CC\n",
    "WHERE CU.CUSTOMER_ID = CC.CUSTOMER_ID\n",
    "UNION ALL\n",
    "SELECT CU.CUSTOMER_ID AS CUSTOMER_ID\n",
    "    ,ST.VISIT_DT AS DATESTAMP\n",
    "    ,ST.ACTION AS EVENT\n",
    "    ,CU.CHURN_FLAG AS CHURN_FLAG\n",
    "FROM CUSTOMER CU, STORE_VISIT ST\n",
    "WHERE CU.CUSTOMER_ID = ST.CUSTOMER_ID\n",
    "UNION ALL\n",
    "SELECT CU.CUSTOMER_ID AS CUSTOMER_ID\n",
    "    ,WB.TD_TIMECODE AS DATESTAMP\n",
    "    ,WB.PAGE AS EVENT\n",
    "    ,CU.CHURN_FLAG AS CHURN_FLAG\n",
    "FROM CUSTOMER CU, WEB WB\n",
    "WHERE CU.CUSTOMER_ID = WB.CUSTOMER_ID)\n",
    "WITH DATA;"
   ]
  },
  {
   "cell_type": "code",
   "execution_count": null,
   "id": "73e7ff55-ae5a-450d-8cc8-6a0c45267021",
   "metadata": {},
   "outputs": [],
   "source": [
    "SELECT * FROM RETAIL_COMPNEW WHERE CUSTOMER_ID=64497 ORDER BY DATESTAMP; "
   ]
  },
  {
   "cell_type": "code",
   "execution_count": null,
   "id": "63c06ecc-7b1b-455a-8095-92059cb6ec92",
   "metadata": {},
   "outputs": [],
   "source": [
    "SELECT COUNT(DISTINCT CUSTOMER_ID) NCLI, COUNT(1) N FROM  RETAIL_COMPNEW;"
   ]
  },
  {
   "cell_type": "code",
   "execution_count": null,
   "id": "1ec92bb2-7f7b-4b22-b759-6697040b091d",
   "metadata": {},
   "outputs": [],
   "source": [
    "SELECT EVENT, COUNT(1) N FROM  RETAIL_COMPNEW GROUP BY 1 ORDER BY 2 DESC;"
   ]
  },
  {
   "cell_type": "markdown",
   "id": "94ae3267-fdbb-432a-8229-37df3d2bb642",
   "metadata": {},
   "source": [
    "### Sessionization"
   ]
  },
  {
   "cell_type": "code",
   "execution_count": null,
   "id": "6c66259f-db88-4b6b-9b1c-49e1e7c08917",
   "metadata": {},
   "outputs": [],
   "source": [
    "CREATE MULTISET TABLE DAILY_SESSIONS_CHURN AS(\n",
    "    SELECT * FROM SESSIONIZE\n",
    "         (ON (SELECT * FROM RETAIL_COMPNEW WHERE CHURN_FLAG = 'Y')\n",
    "             PARTITION BY CUSTOMER_ID ORDER BY DATESTAMP\n",
    "               USING\n",
    "               TIMECOLUMN('DATESTAMP')\n",
    "               TIMEOUT(604800) \n",
    "               ) AS DT) WITH DATA;"
   ]
  },
  {
   "cell_type": "code",
   "execution_count": null,
   "id": "03e52bb2-26b3-4cda-bf98-51c1b8d28196",
   "metadata": {},
   "outputs": [],
   "source": [
    "SELECT * FROM  DAILY_SESSIONS_CHURN ORDER BY 2 ASC WHERE CUSTOMER_ID=64497;"
   ]
  },
  {
   "cell_type": "markdown",
   "id": "cdaab860-203a-449d-a06c-b5932a672541",
   "metadata": {},
   "source": [
    "### nPath Analysis\n",
    "Building Event Sequences leading to Product Return"
   ]
  },
  {
   "cell_type": "code",
   "execution_count": null,
   "id": "e44dc284-cfc0-421a-9b94-8ad78ea6615d",
   "metadata": {},
   "outputs": [],
   "source": [
    "CREATE MULTISET TABLE NPATH_CHURN AS (SELECT * FROM NPATH\n",
    "(ON DAILY_SESSIONS_CHURN PARTITION BY CUSTOMER_ID, SESSIONID ORDER BY DATESTAMP\n",
    "    USING\n",
    "    MODE(NONOVERLAPPING)\n",
    "    PATTERN('E{1,4}.C')\n",
    "    SYMBOLS\n",
    "    (EVENT = 'Product Return'  AS C \n",
    "     ,EVENT <> 'Product Return' AS E)\n",
    "    RESULT\n",
    "    (   FIRST(CUSTOMER_ID OF ANY(E,C))    AS CUSTOMER_ID\n",
    "       ,FIRST(DATESTAMP OF ANY(E,C))    AS DS_START\n",
    "       ,LAST(DATESTAMP OF ANY(E,C))     AS DS_END\n",
    "       ,COUNT(* OF E)                   AS EVENT_CNT\n",
    "      ,ACCUMULATE(EVENT OF ANY(E,C))    AS PATH)\n",
    ") AS DT) WITH DATA;"
   ]
  },
  {
   "cell_type": "code",
   "execution_count": null,
   "id": "e607da87-7c57-4186-b478-ba9a65576e48",
   "metadata": {},
   "outputs": [],
   "source": [
    "SELECT * FROM NPATH_CHURN WHERE CUSTOMER_ID=64497;"
   ]
  },
  {
   "cell_type": "markdown",
   "id": "339b4cc5-1925-49e4-b93e-094cab4e36b4",
   "metadata": {},
   "source": [
    "### Most Frequent Routes to Product Return"
   ]
  },
  {
   "cell_type": "code",
   "execution_count": null,
   "id": "3c29cfc2-10f0-4761-9a0a-b1d4e9d24e73",
   "metadata": {},
   "outputs": [],
   "source": [
    "CREATE TABLE PATH_TAB AS\n",
    "(SELECT TOP 100 path, COUNT(*) AS cnt\n",
    "FROM NPATH_CHURN\n",
    "GROUP BY path\n",
    "ORDER BY cnt DESC)\n",
    "WITH DATA;"
   ]
  },
  {
   "cell_type": "code",
   "execution_count": null,
   "id": "0fc5f03b-1c8d-43cf-be9d-450dcc13536b",
   "metadata": {},
   "outputs": [],
   "source": [
    "SELECT TOP 10 * FROM PATH_TAB ORDER BY cnt DESC; "
   ]
  },
  {
   "cell_type": "markdown",
   "id": "444e83ad-26a9-4f35-932b-6fdeb343853d",
   "metadata": {},
   "source": [
    "### Finish the Demo"
   ]
  },
  {
   "cell_type": "code",
   "execution_count": null,
   "id": "5f7923e8-6022-4286-81ad-4b4375ed49ed",
   "metadata": {},
   "outputs": [],
   "source": [
    "DROP TABLE CALL_CENTER_CALLS;"
   ]
  },
  {
   "cell_type": "code",
   "execution_count": null,
   "id": "f0cfbe53-db00-4e24-9e40-395f7c2a63d2",
   "metadata": {},
   "outputs": [],
   "source": [
    "DROP TABLE STORE_VISIT;"
   ]
  },
  {
   "cell_type": "code",
   "execution_count": null,
   "id": "b4a5a0bb-2b1f-4759-955f-c1e87b79bed9",
   "metadata": {},
   "outputs": [],
   "source": [
    "DROP TABLE WEB;"
   ]
  },
  {
   "cell_type": "code",
   "execution_count": null,
   "id": "8859f850-e03b-456f-be2e-e94da01e4d30",
   "metadata": {},
   "outputs": [],
   "source": [
    "DROP TABLE STORE;"
   ]
  },
  {
   "cell_type": "code",
   "execution_count": null,
   "id": "8b5b4de4-4ead-44e4-b229-c437f468553b",
   "metadata": {},
   "outputs": [],
   "source": [
    "DROP TABLE CUSTOMER;"
   ]
  },
  {
   "cell_type": "code",
   "execution_count": null,
   "id": "b648fe72-944e-4d5f-9bae-075a0445c6db",
   "metadata": {},
   "outputs": [],
   "source": [
    "DROP TABLE CUST_COMMENT;"
   ]
  },
  {
   "cell_type": "code",
   "execution_count": null,
   "id": "160eb6e9-0b3a-4da3-931b-605e32fe0305",
   "metadata": {},
   "outputs": [],
   "source": [
    "DROP TABLE SERVER;"
   ]
  },
  {
   "cell_type": "code",
   "execution_count": null,
   "id": "0612dbad-389e-47d2-8408-aebefb8746fc",
   "metadata": {},
   "outputs": [],
   "source": [
    "DROP TABLE RETAIL_COMPNEW;"
   ]
  },
  {
   "cell_type": "code",
   "execution_count": null,
   "id": "4cd80be4-cce3-41fb-94e6-b45b15691635",
   "metadata": {},
   "outputs": [],
   "source": [
    "DROP TABLE DAILY_SESSIONS_CHURN;"
   ]
  },
  {
   "cell_type": "code",
   "execution_count": null,
   "id": "89d616d7-e8e4-4f29-abd8-36cc87a1a047",
   "metadata": {},
   "outputs": [],
   "source": [
    "DROP TABLE NPATH_CHURN;"
   ]
  },
  {
   "cell_type": "code",
   "execution_count": null,
   "id": "314f4522-71b5-48a8-87f2-e4273c523716",
   "metadata": {},
   "outputs": [],
   "source": [
    "DROP TABLE PATH_TAB;"
   ]
  },
  {
   "cell_type": "code",
   "execution_count": null,
   "id": "872aee91-bfda-4c22-8aad-5c6b60e0e36f",
   "metadata": {},
   "outputs": [],
   "source": []
  }
 ],
 "metadata": {
  "kernelspec": {
   "display_name": "Teradata SQL",
   "language": "Teradata SQL",
   "name": "teradatasql"
  },
  "language_info": {
   "codemirror_mode": "Teradata SQL",
   "file_extension": ".tdrs",
   "mimetype": "application/vnd.teradata.resultset",
   "name": "Teradata SQL",
   "nbconvert_exporter": "",
   "pygments_lexer": "",
   "version": "16.20"
  }
 },
 "nbformat": 4,
 "nbformat_minor": 5
}
