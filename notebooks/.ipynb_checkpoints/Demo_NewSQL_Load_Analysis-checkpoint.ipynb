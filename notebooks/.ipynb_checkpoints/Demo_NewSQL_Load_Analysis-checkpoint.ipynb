{
 "cells": [
  {
   "cell_type": "markdown",
   "id": "b6b2f0b9-6211-4f79-9f27-152cad037e70",
   "metadata": {},
   "source": [
    "<header style=\"padding:10px;background:#f9f9f9;border-top:3px solid #00b2b1\"><img id=\"Teradata-logo\" src=\"https://www.teradata.com/Teradata/Images/Rebrand/Teradata_logo-two_color.png\" alt=\"Teradata\" width=\"220\" align=\"right\" />\n",
    "\n",
    "## NewSQL Analytic Functions \n",
    "### Load, Prepare and Analyze Data At Scale\n",
    "</header>"
   ]
  },
  {
   "cell_type": "markdown",
   "id": "be16a55c-614b-4e03-935b-832a7670215b",
   "metadata": {},
   "source": [
    "**Contenido**\n",
    "1. Connect to the Vantage environment. Replace any hosts, schemas, usernames, etc. as necessary.\n",
    "2. Create and Load Tables from source data sets.\n",
    "3. Basic Data Discovery.  Metadata and feature analysis\n",
    "4. Working with Data - aggregations, joins, and basic transformations.\n",
    "5. Advanced Data Preparation - column assignments using complex functions.\n",
    "6. Visualizing results.\n",
    "\n",
    "## Architecture of the Teradataml package\n",
    "Teradataml seeks to provide easy-to-use interfaces for working with data that resides in a Teradata Vantage system.  Typically, Python developers will make use of common, powerful data management functions using libraries like python pandas.  Teradataml extends these same functions to the Teradata ecosystem, allowing users to apply straightforward, powerful analytics and data manipulation functions that leverage the full power and scale of Vantage without data movement or limitations on client resources without writing complex SQL.\n",
    "\n",
    "**Referencias**\n",
    "* Python Package User Guide: https://docs.teradata.com/r/1YKutX2ODdO9ppo_fnguTA/root\n",
    "* Teradataml Python Reference: https://docs.teradata.com/r/xLnbN80h9C6037gi3ildag/root\n"
   ]
  },
  {
   "cell_type": "markdown",
   "id": "1fdcaaaa-ba5b-4a6d-8786-356940bafe6d",
   "metadata": {},
   "source": [
    "# Section 1.  Connecting to the Database\n",
    "With Teradataml, we create a connection context with parameters controlling default schemas, temporary database for creating views, etc."
   ]
  },
  {
   "cell_type": "code",
   "execution_count": 1,
   "id": "91634ef6-1f21-464e-a2fd-b6a60607f0e7",
   "metadata": {},
   "outputs": [
    {
     "name": "stdin",
     "output_type": "stream",
     "text": [
      "Password: ·········\n"
     ]
    },
    {
     "name": "stdout",
     "output_type": "stream",
     "text": [
      "Success: 'local' connection established and activated for user 'demo_user', with default database 'demo_user'\n"
     ]
    }
   ],
   "source": [
    "%connect local, hidewarnings=true"
   ]
  },
  {
   "cell_type": "markdown",
   "id": "bd2bfed4-599c-4f4f-ac28-094aa3557f96",
   "metadata": {},
   "source": [
    "# Section 2. - Create and Load Tables\n",
    "\n",
    "## Load Sample Data from plain Files"
   ]
  },
  {
   "cell_type": "code",
   "execution_count": 4,
   "id": "7f7b554d-a1af-4a30-b0c0-33b25ab449b7",
   "metadata": {},
   "outputs": [
    {
     "data": {
      "text/plain": [
       "Success: 0 rows affected"
      ]
     },
     "execution_count": 4,
     "metadata": {
      "application/vnd.teradata.resultset": ""
     },
     "output_type": "execute_result"
    }
   ],
   "source": [
    "CREATE TABLE CALL_CENTER_CALLS\n",
    "(\n",
    "    CALL_ID VARCHAR(20),\n",
    "    CUSTOMER_ID DECIMAL(18,0),\n",
    "    CC_REP_ID DECIMAL(18,0),\n",
    "    CC_CALL_DT TIMESTAMP(6),\n",
    "    CALL_TYPE VARCHAR(50)\n",
    ");"
   ]
  },
  {
   "cell_type": "code",
   "execution_count": 5,
   "id": "62e2b264-97cf-4ccf-b193-beab7edf6979",
   "metadata": {},
   "outputs": [
    {
     "name": "stdout",
     "output_type": "stream",
     "text": [
      "Using database: demo_user\n",
      "2023-07-23T01:22:24.426 Start Batch Loading...\n",
      "  \u001b[36m\u001b[m   \n",
      "Data Load: Number Rows Loaded = 7,887, Elapsed Time = 00:00:00.923, History ID = 87\n",
      "Success Loading Data: from file,'/home/jovyan/JupyterLabRoot/new-sql/data/CALL_CENTER_CALLS.csv', into table, demo_user.CALL_CENTER_CALLS."
     ]
    }
   ],
   "source": [
    "%dataload DATABASE=demo_user, TABLE=CALL_CENTER_CALLS, skiprows=1, FILEPATH=new-sql/data/CALL_CENTER_CALLS.csv"
   ]
  },
  {
   "cell_type": "code",
   "execution_count": 6,
   "id": "40ea875f-2643-4fa0-8c0d-e4346ea80733",
   "metadata": {},
   "outputs": [
    {
     "data": {
      "text/plain": [
       "Success: 0 rows affected"
      ]
     },
     "execution_count": 6,
     "metadata": {
      "application/vnd.teradata.resultset": ""
     },
     "output_type": "execute_result"
    }
   ],
   "source": [
    "CREATE TABLE STORE_VISIT\n",
    "(\n",
    "    STORE_ID DECIMAL(18,0),\n",
    "    CUSTOMER_ID DECIMAL(18,0),\n",
    "    VISIT_DT TIMESTAMP(6),\n",
    "    ACTION VARCHAR(50)\n",
    ");"
   ]
  },
  {
   "cell_type": "code",
   "execution_count": 7,
   "id": "3f7ab7a0-2b21-433e-8be4-e8b8c35cf0f7",
   "metadata": {},
   "outputs": [
    {
     "name": "stdout",
     "output_type": "stream",
     "text": [
      "Using database: demo_user\n",
      "2023-07-23T01:22:27.406 Start Batch Loading...\n",
      "  \u001b[36m\u001b[m   \n",
      "Data Load: Number Rows Loaded = 6,115, Elapsed Time = 00:00:00.801, History ID = 89\n",
      "Success Loading Data: from file,'/home/jovyan/JupyterLabRoot/new-sql/data/STORE_VISIT.csv', into table, demo_user.STORE_VISIT."
     ]
    }
   ],
   "source": [
    "%dataload DATABASE=demo_user, TABLE=STORE_VISIT, skiprows=1, FILEPATH=new-sql/data/STORE_VISIT.csv"
   ]
  },
  {
   "cell_type": "code",
   "execution_count": 8,
   "id": "4f390b68-28ac-48e4-9246-441ede2ff070",
   "metadata": {},
   "outputs": [
    {
     "data": {
      "text/plain": [
       "Success: 0 rows affected"
      ]
     },
     "execution_count": 8,
     "metadata": {
      "application/vnd.teradata.resultset": ""
     },
     "output_type": "execute_result"
    }
   ],
   "source": [
    "CREATE TABLE WEB \n",
    "     (\n",
    "     CUSTOMER_ID DECIMAL(18,0) NOT NULL,\n",
    "     SERVER_ID VARCHAR(5) NOT NULL,\n",
    "     PAGE VARCHAR(50),\n",
    "     BROWSE_ID VARCHAR(20)\n",
    "     )\n",
    "PRIMARY TIME INDEX (TIMESTAMP(6), DATE '2016-01-01', MINUTES(1), COLUMNS (SERVER_ID), NONSEQUENCED); "
   ]
  },
  {
   "cell_type": "code",
   "execution_count": 9,
   "id": "f9f6526d-fb05-47a0-aa21-4108f6ef44ce",
   "metadata": {},
   "outputs": [
    {
     "name": "stdout",
     "output_type": "stream",
     "text": [
      "Using database: demo_user\n",
      "2023-07-23T01:22:32.103 Start Batch Loading...\n",
      "  \u001b[36m\u001b[m   \n",
      "Data Load: Number Rows Loaded = 13,769, Elapsed Time = 00:00:07.851, History ID = 91\n",
      "Success Loading Data: from file,'/home/jovyan/JupyterLabRoot/new-sql/data/WEB.csv', into table, demo_user.WEB."
     ]
    }
   ],
   "source": [
    "%dataload DATABASE=demo_user, TABLE=WEB, skiprows=1, FILEPATH=new-sql/data/WEB.csv"
   ]
  },
  {
   "cell_type": "code",
   "execution_count": 3,
   "id": "6cf6b225-de06-4f1c-b058-27e067fa0289",
   "metadata": {},
   "outputs": [
    {
     "data": {
      "text/plain": [
       "Success: 0 rows affected"
      ]
     },
     "execution_count": 3,
     "metadata": {
      "application/vnd.teradata.resultset": ""
     },
     "output_type": "execute_result"
    }
   ],
   "source": [
    "CREATE MULTISET TABLE CUSTOMER\n",
    "(\n",
    "    CUSTOMER_ID DECIMAL(18,0) NOT NULL,\n",
    "    F_NAME VARCHAR(30),\n",
    "    L_NAME VARCHAR(30),\n",
    "    CUST_ZIP VARCHAR(5),\n",
    "    VALIDITY VARCHAR(50),\n",
    "    GENDER CHAR(1),\n",
    "    CHURN_FLAG VARCHAR(1),\n",
    "    CUS_LONG FLOAT,\n",
    "    CUS_LAT FLOAT\n",
    ");"
   ]
  },
  {
   "cell_type": "code",
   "execution_count": 10,
   "id": "37510820-07ae-43a3-9658-41b8992f9a78",
   "metadata": {},
   "outputs": [
    {
     "name": "stdout",
     "output_type": "stream",
     "text": [
      "Using database: demo_user\n",
      "2023-07-23T01:22:51.747 Start Batch Loading...\n",
      "  \u001b[36m\u001b[m   \n",
      "Data Load: Number Rows Loaded = 8,095, Elapsed Time = 00:00:00.997, History ID = 92\n",
      "Success Loading Data: from file,'/home/jovyan/JupyterLabRoot/new-sql/data/CUSTOMER.csv', into table, demo_user.CUSTOMER."
     ]
    }
   ],
   "source": [
    "%dataload DATABASE=demo_user, TABLE=CUSTOMER, skiprows=1, FILEPATH=new-sql/data/CUSTOMER.csv"
   ]
  },
  {
   "cell_type": "code",
   "execution_count": null,
   "id": "c5e13e30-1df0-491f-a71e-854baaff6728",
   "metadata": {},
   "outputs": [],
   "source": [
    "CREATE TABLE STORE\n",
    "(\n",
    "    STORE_ID DECIMAL(18,0) NOT NULL,\n",
    "    STORE_DESC VARCHAR(80),\n",
    "    STORE_ZIP VARCHAR(5),\n",
    "    STORE_LOCATION ST_GEOMETRY\n",
    ")\n",
    "INDEX(STORE_LOCATION);"
   ]
  },
  {
   "cell_type": "code",
   "execution_count": null,
   "id": "be67e091-e463-407e-ba1e-7729aed32998",
   "metadata": {},
   "outputs": [],
   "source": [
    "%dataload DATABASE=demo_user, TABLE=STORE, skiprows=1, FILEPATH=new-sql/data/STORE.csv"
   ]
  },
  {
   "cell_type": "code",
   "execution_count": null,
   "id": "5ff81a97-8c67-4034-a0ed-420966801884",
   "metadata": {},
   "outputs": [],
   "source": [
    "CREATE MULTISET TABLE SERVER\n",
    "(\n",
    "    SERVER_ID VARCHAR(5) NOT NULL,\n",
    "    SERVER_ZIP VARCHAR(5),\n",
    "    SERVER_LOCATION ST_GEOMETRY\n",
    ")\n",
    "INDEX (SERVER_LOCATION);"
   ]
  },
  {
   "cell_type": "code",
   "execution_count": null,
   "id": "0ae07588-4366-4ccd-a8a6-72762d3be361",
   "metadata": {},
   "outputs": [],
   "source": [
    "%dataload DATABASE=demo_user, TABLE=SERVER, skiprows=1, FILEPATH=new-sql/data/SERVER.csv"
   ]
  },
  {
   "cell_type": "markdown",
   "id": "f3c6d4d1-9c51-49dd-9ec8-7c2b11be642f",
   "metadata": {},
   "source": [
    "# Section 3 - Data Discovery\n",
    "\n",
    "### Look at table statistics, sample data, simple exploration"
   ]
  },
  {
   "cell_type": "code",
   "execution_count": 11,
   "id": "b662630e-5208-4c56-965e-55f7906355c1",
   "metadata": {},
   "outputs": [
    {
     "data": {
      "application/vnd.teradata.resultset": "\"CUSTOMER_ID\",\"F_NAME\",\"L_NAME\",\"CUST_ZIP\",\"VALIDITY\",\"GENDER\",\"CHURN_FLAG\",\"CUS_LONG\",\"CUS_LAT\"\n\"150974\",\"Bob\",\"Ali\",\"98535\",\"(2015-03-27, 9999-12-31)\",\"M \",\"Y\",\"-124.13795471191406\",\"47.10643005371094\"\n\"111559\",\"Jenifer\",\"Ballard\",\"13327\",\"(2015-01-06, 9999-12-31)\",\"F \",\"Y\",\"-75.2623062133789\",\"43.97292709350586\"\n\"47388\",\"Luther\",\"Oliver\",\"14506\",\"(2012-01-06, 9999-12-31)\",\"M \",\"N\",\"-77.51665496826172\",\"43.00551223754883\"\n\"106689\",\"Lloyd\",\"Pace\",\"51034\",\"(2013-02-25, 9999-12-31)\",\"M \",\"Y\",\"-95.78961944580078\",\"42.1607551574707\"\n\"5278\",\"Elba\",\"Salazar\",\"55329\",\"(2013-03-17, 9999-12-31)\",\"F \",\"N\",\"-94.5589370727539\",\"45.304542541503906\"\n\"98617\",\"Lana\",\"Pope\",\"65629\",\"(2013-12-12, 9999-12-31)\",\"F \",\"Y\",\"-93.0005874633789\",\"36.89148712158203\"\n\"248245\",\"Lionel\",\"Moran\",\"75974\",\"(2010-08-11, 9999-12-31)\",\"M \",\"Y\",\"-94.23983764648438\",\"31.958364486694336\"\n\"12223\",\"Jamie\",\"Vega\",\"37033\",\"(2015-04-23, 9999-12-31)\",\"F \",\"N\",\"-87.55814361572266\",\"35.74473190307617\"\n\"113508\",\"April\",\"Lamb\",\"24120\",\"(2014-10-24, 9999-12-31)\",\"F \",\"Y\",\"-80.4139175415039\",\"36.69163513183594\"\n\"174051\",\"Jenifer\",\"Swanson\",\"04541\",\"(2014-04-26, 9999-12-31)\",\"F \",\"Y\",\"-69.47688293457031\",\"43.89424133300781\"",
      "text/html": [
       "<div class = \"td-resultset-table-div\" style = \"max-height: 100%; overflow-y: auto\">\n",
       "      <table class=\"tdhistory412622\"><style>\n",
       "      table.tdhistory412622 { display: block !important; min-height: 294px !important; overflow: auto !important; height: 294px !important; width: 100% !important; border: 1px solid rgb(207, 207, 207) !important; border-collapse: collapse !important; ; color: var(--jp-ui-font-color1) !important; }\n",
       "      th.tdhistory412622 { border: 1px solid rgb(198,198,198) !important; border-collapse: collapse !important; ; padding: 2px 5px !important; ; font-size: 13px !important; ; text-align: center !important; white-space: normal !important; color: var(--jp-ui-font-color1) !important; }\n",
       "      th.tdhistory412622:last-child { text-align: left !important; }\n",
       "      tbody.tdhistory412622 tr:nth-child(even) { background: rgba(243, 243, 243, 0.75) !important; }\n",
       "      tbody.tdhistory412622 tr:nth-child(odd) { background: var(--jp-ui-inverse-font-color1) !important; }\n",
       "      td.tdhistory412622 { border: 1px solid rgb(207, 207, 207) !important; border-collapse: collapse !important; ; padding: 2px 5px !important; ; font-size: 13px !important; ; text-align: left !important;          white-space: nowrap !important; overflow:hidden !important; text-overflow:ellipsis !important;; }\n",
       "    </style><thead><tr style= \"background: rgba(243, 243, 243, 0.75)\"><th class=\"tdhistory412622\"></th><th class=\"tdhistory412622\">CUSTOMER_ID</th><th class=\"tdhistory412622\">F_NAME</th><th class=\"tdhistory412622\">L_NAME</th><th class=\"tdhistory412622\">CUST_ZIP</th><th class=\"tdhistory412622\">VALIDITY</th><th class=\"tdhistory412622\">GENDER</th><th class=\"tdhistory412622\">CHURN_FLAG</th><th class=\"tdhistory412622\">CUS_LONG</th><th class=\"tdhistory412622\">CUS_LAT</th></tr></thead><tbody class=\"tdhistory412622 resultset-body\"><tr><th class=\"tdhistory412622\" style= \"background: rgba(243, 243, 243, 0.75)\">1</th><td class=\"tdhistory412622\">150974</td><td class=\"tdhistory412622\">Bob</td><td class=\"tdhistory412622\">Ali</td><td class=\"tdhistory412622\">98535</td><td class=\"tdhistory412622\">(2015-03-27, 9999-12-31)</td><td class=\"tdhistory412622\">M </td><td class=\"tdhistory412622\">Y</td><td class=\"tdhistory412622\">-124.13795471191406</td><td class=\"tdhistory412622\">47.10643005371094</td></tr><tr><th class=\"tdhistory412622\" style= \"background: rgba(243, 243, 243, 0.75)\">2</th><td class=\"tdhistory412622\">111559</td><td class=\"tdhistory412622\">Jenifer</td><td class=\"tdhistory412622\">Ballard</td><td class=\"tdhistory412622\">13327</td><td class=\"tdhistory412622\">(2015-01-06, 9999-12-31)</td><td class=\"tdhistory412622\">F </td><td class=\"tdhistory412622\">Y</td><td class=\"tdhistory412622\">-75.2623062133789</td><td class=\"tdhistory412622\">43.97292709350586</td></tr><tr><th class=\"tdhistory412622\" style= \"background: rgba(243, 243, 243, 0.75)\">3</th><td class=\"tdhistory412622\">47388</td><td class=\"tdhistory412622\">Luther</td><td class=\"tdhistory412622\">Oliver</td><td class=\"tdhistory412622\">14506</td><td class=\"tdhistory412622\">(2012-01-06, 9999-12-31)</td><td class=\"tdhistory412622\">M </td><td class=\"tdhistory412622\">N</td><td class=\"tdhistory412622\">-77.51665496826172</td><td class=\"tdhistory412622\">43.00551223754883</td></tr><tr><th class=\"tdhistory412622\" style= \"background: rgba(243, 243, 243, 0.75)\">4</th><td class=\"tdhistory412622\">106689</td><td class=\"tdhistory412622\">Lloyd</td><td class=\"tdhistory412622\">Pace</td><td class=\"tdhistory412622\">51034</td><td class=\"tdhistory412622\">(2013-02-25, 9999-12-31)</td><td class=\"tdhistory412622\">M </td><td class=\"tdhistory412622\">Y</td><td class=\"tdhistory412622\">-95.78961944580078</td><td class=\"tdhistory412622\">42.1607551574707</td></tr><tr><th class=\"tdhistory412622\" style= \"background: rgba(243, 243, 243, 0.75)\">5</th><td class=\"tdhistory412622\">5278</td><td class=\"tdhistory412622\">Elba</td><td class=\"tdhistory412622\">Salazar</td><td class=\"tdhistory412622\">55329</td><td class=\"tdhistory412622\">(2013-03-17, 9999-12-31)</td><td class=\"tdhistory412622\">F </td><td class=\"tdhistory412622\">N</td><td class=\"tdhistory412622\">-94.5589370727539</td><td class=\"tdhistory412622\">45.304542541503906</td></tr><tr><th class=\"tdhistory412622\" style= \"background: rgba(243, 243, 243, 0.75)\">6</th><td class=\"tdhistory412622\">98617</td><td class=\"tdhistory412622\">Lana</td><td class=\"tdhistory412622\">Pope</td><td class=\"tdhistory412622\">65629</td><td class=\"tdhistory412622\">(2013-12-12, 9999-12-31)</td><td class=\"tdhistory412622\">F </td><td class=\"tdhistory412622\">Y</td><td class=\"tdhistory412622\">-93.0005874633789</td><td class=\"tdhistory412622\">36.89148712158203</td></tr><tr><th class=\"tdhistory412622\" style= \"background: rgba(243, 243, 243, 0.75)\">7</th><td class=\"tdhistory412622\">248245</td><td class=\"tdhistory412622\">Lionel</td><td class=\"tdhistory412622\">Moran</td><td class=\"tdhistory412622\">75974</td><td class=\"tdhistory412622\">(2010-08-11, 9999-12-31)</td><td class=\"tdhistory412622\">M </td><td class=\"tdhistory412622\">Y</td><td class=\"tdhistory412622\">-94.23983764648438</td><td class=\"tdhistory412622\">31.958364486694336</td></tr><tr><th class=\"tdhistory412622\" style= \"background: rgba(243, 243, 243, 0.75)\">8</th><td class=\"tdhistory412622\">12223</td><td class=\"tdhistory412622\">Jamie</td><td class=\"tdhistory412622\">Vega</td><td class=\"tdhistory412622\">37033</td><td class=\"tdhistory412622\">(2015-04-23, 9999-12-31)</td><td class=\"tdhistory412622\">F </td><td class=\"tdhistory412622\">N</td><td class=\"tdhistory412622\">-87.55814361572266</td><td class=\"tdhistory412622\">35.74473190307617</td></tr><tr><th class=\"tdhistory412622\" style= \"background: rgba(243, 243, 243, 0.75)\">9</th><td class=\"tdhistory412622\">113508</td><td class=\"tdhistory412622\">April</td><td class=\"tdhistory412622\">Lamb</td><td class=\"tdhistory412622\">24120</td><td class=\"tdhistory412622\">(2014-10-24, 9999-12-31)</td><td class=\"tdhistory412622\">F </td><td class=\"tdhistory412622\">Y</td><td class=\"tdhistory412622\">-80.4139175415039</td><td class=\"tdhistory412622\">36.69163513183594</td></tr><tr><th class=\"tdhistory412622\" style= \"background: rgba(243, 243, 243, 0.75)\">10</th><td class=\"tdhistory412622\">174051</td><td class=\"tdhistory412622\">Jenifer</td><td class=\"tdhistory412622\">Swanson</td><td class=\"tdhistory412622\">04541</td><td class=\"tdhistory412622\">(2014-04-26, 9999-12-31)</td><td class=\"tdhistory412622\">F </td><td class=\"tdhistory412622\">Y</td><td class=\"tdhistory412622\">-69.47688293457031</td><td class=\"tdhistory412622\">43.89424133300781</td></tr></tbody></table></div>"
      ]
     },
     "execution_count": 11,
     "metadata": {
      "application/vnd.teradata.resultset": "{\"resultSetID\":\"/home/jovyan/JupyterLabRoot/Teradata/Resultsets/2023.07.23_01.24.50.686_UTC\",\"historyID\":93,\"chunkID\":\"00001\",\"sessionid\":\"\",\"portnum\":\"\",\"dockermode\":\"docker\",\"totalRowCount\":10,\"chunkCount\":0,\"rowLimit\":0,\"columnMetadata\":[{\"columnName\":\"CUSTOMER_ID\",\"columnTypeName\":\"DECIMAL\",\"precision\":18},{\"columnNumber\":1,\"columnName\":\"F_NAME\",\"columnTypeName\":\"VARCHAR\",\"length\":30,\"scale\":30},{\"columnNumber\":2,\"columnName\":\"L_NAME\",\"columnTypeName\":\"VARCHAR\",\"length\":30,\"scale\":30},{\"columnNumber\":3,\"columnName\":\"CUST_ZIP\",\"columnTypeName\":\"VARCHAR\",\"length\":5,\"scale\":5},{\"columnNumber\":4,\"columnName\":\"VALIDITY\",\"columnTypeName\":\"VARCHAR\",\"length\":50,\"scale\":50},{\"columnNumber\":5,\"columnName\":\"GENDER\",\"columnTypeName\":\"CHAR\",\"length\":1,\"scale\":1},{\"columnNumber\":6,\"columnName\":\"CHURN_FLAG\",\"columnTypeName\":\"VARCHAR\",\"length\":1,\"scale\":1},{\"columnNumber\":7,\"columnName\":\"CUS_LONG\",\"columnTypeName\":\"FLOAT\"},{\"columnNumber\":8,\"columnName\":\"CUS_LAT\",\"columnTypeName\":\"FLOAT\"}]}"
     },
     "output_type": "execute_result"
    }
   ],
   "source": [
    "SEL * FROM CUSTOMER SAMPLE 10;"
   ]
  },
  {
   "cell_type": "code",
   "execution_count": 27,
   "id": "9fc6d83f-12bd-43cb-a097-fbd70acef085",
   "metadata": {},
   "outputs": [
    {
     "data": {
      "application/vnd.teradata.resultset": "\"ColumnName\",\"Datatype\",\"NonNullCount\",\"NullCount\",\"BlankCount\",\"ZeroCount\",\"PositiveCount\",\"NegativeCount\",\"NullPercentage\",\"NonNullPercentage\"\n\"GENDER\",\"CHAR(1) CHARACTER SET LATIN\",\"8095\",\"0\",\"0\",\"\",\"\",\"\",\"0\",\"100\"\n\"CUS_LAT\",\"FLOAT\",\"8095\",\"0\",\"\",\"0\",\"8095\",\"0\",\"0\",\"100\"\n\"L_NAME\",\"VARCHAR(30) CHARACTER SET LATIN\",\"8095\",\"0\",\"0\",\"\",\"\",\"\",\"0\",\"100\"\n\"CHURN_FLAG\",\"VARCHAR(1) CHARACTER SET LATIN\",\"8095\",\"0\",\"0\",\"\",\"\",\"\",\"0\",\"100\"\n\"CUS_LONG\",\"FLOAT\",\"8095\",\"0\",\"\",\"0\",\"3\",\"8092\",\"0\",\"100\"",
      "text/html": [
       "<div class = \"td-resultset-table-div\" style = \"max-height: 100%; overflow-y: auto\">\n",
       "      <table class=\"tdhistory804151\"><style>\n",
       "      table.tdhistory804151 { display: block !important; min-height: 189px !important; overflow: auto !important; height: 189px !important; width: 100% !important; border: 1px solid rgb(207, 207, 207) !important; border-collapse: collapse !important; ; color: var(--jp-ui-font-color1) !important; }\n",
       "      th.tdhistory804151 { border: 1px solid rgb(198,198,198) !important; border-collapse: collapse !important; ; padding: 2px 5px !important; ; font-size: 13px !important; ; text-align: center !important; white-space: normal !important; color: var(--jp-ui-font-color1) !important; }\n",
       "      th.tdhistory804151:last-child { text-align: left !important; }\n",
       "      tbody.tdhistory804151 tr:nth-child(even) { background: rgba(243, 243, 243, 0.75) !important; }\n",
       "      tbody.tdhistory804151 tr:nth-child(odd) { background: var(--jp-ui-inverse-font-color1) !important; }\n",
       "      td.tdhistory804151 { border: 1px solid rgb(207, 207, 207) !important; border-collapse: collapse !important; ; padding: 2px 5px !important; ; font-size: 13px !important; ; text-align: left !important;          white-space: nowrap !important; overflow:hidden !important; text-overflow:ellipsis !important;; }\n",
       "    </style><thead><tr style= \"background: rgba(243, 243, 243, 0.75)\"><th class=\"tdhistory804151\"></th><th class=\"tdhistory804151\">ColumnName</th><th class=\"tdhistory804151\">Datatype</th><th class=\"tdhistory804151\">NonNullCount</th><th class=\"tdhistory804151\">NullCount</th><th class=\"tdhistory804151\">BlankCount</th><th class=\"tdhistory804151\">ZeroCount</th><th class=\"tdhistory804151\">PositiveCount</th><th class=\"tdhistory804151\">NegativeCount</th><th class=\"tdhistory804151\">NullPercentage</th><th class=\"tdhistory804151\">NonNullPercentage</th></tr></thead><tbody class=\"tdhistory804151 resultset-body\"><tr><th class=\"tdhistory804151\" style= \"background: rgba(243, 243, 243, 0.75)\">1</th><td class=\"tdhistory804151\">GENDER</td><td class=\"tdhistory804151\">CHAR(1) CHARACTER SET LATIN</td><td class=\"tdhistory804151\">8095</td><td class=\"tdhistory804151\">0</td><td class=\"tdhistory804151\">0</td><td class=\"tdhistory804151\"></td><td class=\"tdhistory804151\"></td><td class=\"tdhistory804151\"></td><td class=\"tdhistory804151\">0</td><td class=\"tdhistory804151\">100</td></tr><tr><th class=\"tdhistory804151\" style= \"background: rgba(243, 243, 243, 0.75)\">2</th><td class=\"tdhistory804151\">CUS_LAT</td><td class=\"tdhistory804151\">FLOAT</td><td class=\"tdhistory804151\">8095</td><td class=\"tdhistory804151\">0</td><td class=\"tdhistory804151\"></td><td class=\"tdhistory804151\">0</td><td class=\"tdhistory804151\">8095</td><td class=\"tdhistory804151\">0</td><td class=\"tdhistory804151\">0</td><td class=\"tdhistory804151\">100</td></tr><tr><th class=\"tdhistory804151\" style= \"background: rgba(243, 243, 243, 0.75)\">3</th><td class=\"tdhistory804151\">L_NAME</td><td class=\"tdhistory804151\">VARCHAR(30) CHARACTER SET LATIN</td><td class=\"tdhistory804151\">8095</td><td class=\"tdhistory804151\">0</td><td class=\"tdhistory804151\">0</td><td class=\"tdhistory804151\"></td><td class=\"tdhistory804151\"></td><td class=\"tdhistory804151\"></td><td class=\"tdhistory804151\">0</td><td class=\"tdhistory804151\">100</td></tr><tr><th class=\"tdhistory804151\" style= \"background: rgba(243, 243, 243, 0.75)\">4</th><td class=\"tdhistory804151\">CHURN_FLAG</td><td class=\"tdhistory804151\">VARCHAR(1) CHARACTER SET LATIN</td><td class=\"tdhistory804151\">8095</td><td class=\"tdhistory804151\">0</td><td class=\"tdhistory804151\">0</td><td class=\"tdhistory804151\"></td><td class=\"tdhistory804151\"></td><td class=\"tdhistory804151\"></td><td class=\"tdhistory804151\">0</td><td class=\"tdhistory804151\">100</td></tr><tr><th class=\"tdhistory804151\" style= \"background: rgba(243, 243, 243, 0.75)\">5</th><td class=\"tdhistory804151\">CUS_LONG</td><td class=\"tdhistory804151\">FLOAT</td><td class=\"tdhistory804151\">8095</td><td class=\"tdhistory804151\">0</td><td class=\"tdhistory804151\"></td><td class=\"tdhistory804151\">0</td><td class=\"tdhistory804151\">3</td><td class=\"tdhistory804151\">8092</td><td class=\"tdhistory804151\">0</td><td class=\"tdhistory804151\">100</td></tr></tbody></table></div>"
      ]
     },
     "execution_count": 27,
     "metadata": {
      "application/vnd.teradata.resultset": "{\"resultSetID\":\"/home/jovyan/JupyterLabRoot/Teradata/Resultsets/2023.07.23_02.22.54.335_UTC\",\"historyID\":106,\"chunkID\":\"00001\",\"sessionid\":\"\",\"portnum\":\"\",\"dockermode\":\"docker\",\"totalRowCount\":5,\"chunkCount\":0,\"rowLimit\":0,\"columnMetadata\":[{\"columnName\":\"ColumnName\",\"columnTypeName\":\"VARCHAR\",\"length\":128,\"scale\":128},{\"columnNumber\":1,\"columnName\":\"Datatype\",\"columnTypeName\":\"VARCHAR\",\"length\":128,\"scale\":128},{\"columnNumber\":2,\"columnName\":\"NonNullCount\",\"columnTypeName\":\"BIGINT\"},{\"columnNumber\":3,\"columnName\":\"NullCount\",\"columnTypeName\":\"BIGINT\"},{\"columnNumber\":4,\"columnName\":\"BlankCount\",\"columnTypeName\":\"BIGINT\"},{\"columnNumber\":5,\"columnName\":\"ZeroCount\",\"columnTypeName\":\"BIGINT\"},{\"columnNumber\":6,\"columnName\":\"PositiveCount\",\"columnTypeName\":\"BIGINT\"},{\"columnNumber\":7,\"columnName\":\"NegativeCount\",\"columnTypeName\":\"BIGINT\"},{\"columnNumber\":8,\"columnName\":\"NullPercentage\",\"columnTypeName\":\"FLOAT\"},{\"columnNumber\":9,\"columnName\":\"NonNullPercentage\",\"columnTypeName\":\"FLOAT\"}]}"
     },
     "output_type": "execute_result"
    }
   ],
   "source": [
    "SELECT * FROM TD_ColumnSummary (\n",
    "  ON CUSTOMER AS InputTable\n",
    "  USING\n",
    "  TargetColumns ('L_NAME','GENDER','CHURN_FLAG','CUS_LONG','CUS_LAT')\n",
    ") AS dt;"
   ]
  },
  {
   "cell_type": "code",
   "execution_count": 32,
   "id": "55c7a605-3f3c-4ee8-b552-2d9faec6cf97",
   "metadata": {},
   "outputs": [
    {
     "data": {
      "application/vnd.teradata.resultset": "\"ColumnName\",\"DistinctValue\",\"DistinctValueCount\"\n\"CHURN_FLAG\",\"N\",\"3121\"\n\"CHURN_FLAG\",\"Y\",\"4974\"\n\"GENDER\",\"F\",\"4018\"\n\"GENDER\",\"M\",\"4077\"",
      "text/html": [
       "<div class = \"td-resultset-table-div\" style = \"max-height: 100%; overflow-y: auto\">\n",
       "      <table class=\"tdhistory829955\"><style>\n",
       "      table.tdhistory829955 { display: block !important; min-height: 168px !important; overflow: auto !important; height: 168px !important; width: 100% !important; border: 1px solid rgb(207, 207, 207) !important; border-collapse: collapse !important; ; color: var(--jp-ui-font-color1) !important; }\n",
       "      th.tdhistory829955 { border: 1px solid rgb(198,198,198) !important; border-collapse: collapse !important; ; padding: 2px 5px !important; ; font-size: 13px !important; ; text-align: center !important; white-space: normal !important; color: var(--jp-ui-font-color1) !important; }\n",
       "      th.tdhistory829955:last-child { text-align: left !important; }\n",
       "      tbody.tdhistory829955 tr:nth-child(even) { background: rgba(243, 243, 243, 0.75) !important; }\n",
       "      tbody.tdhistory829955 tr:nth-child(odd) { background: var(--jp-ui-inverse-font-color1) !important; }\n",
       "      td.tdhistory829955 { border: 1px solid rgb(207, 207, 207) !important; border-collapse: collapse !important; ; padding: 2px 5px !important; ; font-size: 13px !important; ; text-align: left !important;          white-space: nowrap !important; overflow:hidden !important; text-overflow:ellipsis !important;; }\n",
       "    </style><thead><tr style= \"background: rgba(243, 243, 243, 0.75)\"><th class=\"tdhistory829955\"></th><th class=\"tdhistory829955\">ColumnName</th><th class=\"tdhistory829955\">DistinctValue</th><th class=\"tdhistory829955\">DistinctValueCount</th></tr></thead><tbody class=\"tdhistory829955 resultset-body\"><tr><th class=\"tdhistory829955\" style= \"background: rgba(243, 243, 243, 0.75)\">1</th><td class=\"tdhistory829955\">CHURN_FLAG</td><td class=\"tdhistory829955\">N</td><td class=\"tdhistory829955\">3121</td></tr><tr><th class=\"tdhistory829955\" style= \"background: rgba(243, 243, 243, 0.75)\">2</th><td class=\"tdhistory829955\">CHURN_FLAG</td><td class=\"tdhistory829955\">Y</td><td class=\"tdhistory829955\">4974</td></tr><tr><th class=\"tdhistory829955\" style= \"background: rgba(243, 243, 243, 0.75)\">3</th><td class=\"tdhistory829955\">GENDER</td><td class=\"tdhistory829955\">F</td><td class=\"tdhistory829955\">4018</td></tr><tr><th class=\"tdhistory829955\" style= \"background: rgba(243, 243, 243, 0.75)\">4</th><td class=\"tdhistory829955\">GENDER</td><td class=\"tdhistory829955\">M</td><td class=\"tdhistory829955\">4077</td></tr></tbody></table></div>"
      ]
     },
     "execution_count": 32,
     "metadata": {
      "application/vnd.teradata.resultset": "{\"resultSetID\":\"/home/jovyan/JupyterLabRoot/Teradata/Resultsets/2023.07.23_02.28.24.556_UTC\",\"historyID\":111,\"chunkID\":\"00001\",\"sessionid\":\"\",\"portnum\":\"\",\"dockermode\":\"docker\",\"totalRowCount\":4,\"chunkCount\":0,\"rowLimit\":0,\"columnMetadata\":[{\"columnName\":\"ColumnName\",\"columnTypeName\":\"VARCHAR\",\"length\":128,\"scale\":128},{\"columnNumber\":1,\"columnName\":\"DistinctValue\",\"columnTypeName\":\"LONG VARCHAR\",\"length\":32000,\"scale\":32000},{\"columnNumber\":2,\"columnName\":\"DistinctValueCount\",\"columnTypeName\":\"BIGINT\"}]}"
     },
     "output_type": "execute_result"
    }
   ],
   "source": [
    "SELECT * FROM TD_CategoricalSummary (\n",
    "  ON CUSTOMER AS InputTable\n",
    "  USING\n",
    "  TargetColumns ('GENDER','CHURN_FLAG')\n",
    ") AS dt ORDER BY 1,2;"
   ]
  },
  {
   "cell_type": "code",
   "execution_count": 30,
   "id": "321a6ece-cc6a-4cda-9885-c779da423667",
   "metadata": {},
   "outputs": [
    {
     "data": {
      "application/vnd.teradata.resultset": "\"ATTRIBUTE\",\"StatName\",\"StatValue\"\n\"CUS_LAT\",\"BOTTOM5(1)\",\"13.300206184387207\"\n\"CUS_LAT\",\"BOTTOM5(2)\",\"13.377481460571289\"\n\"CUS_LAT\",\"BOTTOM5(3)\",\"17.743072509765625\"\n\"CUS_LAT\",\"BOTTOM5(4)\",\"17.989852905273438\"\n\"CUS_LAT\",\"BOTTOM5(5)\",\"17.995441436767578\"\n\"CUS_LAT\",\"COEFFICIENT OF VARIATION\",\"0.13515251117504176\"\n\"CUS_LAT\",\"CORRECTED SUM OF SQUARES\",\"223441.18981560096\"\n\"CUS_LAT\",\"COUNT\",\"8095\"\n\"CUS_LAT\",\"GEOMETRIC MEAN\",\"+Inf\"\n\"CUS_LAT\",\"HARMONIC MEAN\",\"38.092770368744866\"\n\"CUS_LAT\",\"INTERQUARTILE RANGE\",\"6.669668197631836\"\n\"CUS_LAT\",\"KURTOSIS\",\"3.012648823503318\"\n\"CUS_LAT\",\"MAXIMUM\",\"71.25350189208984\"\n\"CUS_LAT\",\"MEAN\",\"38.87549198025756\"\n\"CUS_LAT\",\"MEDIAN\",\"39.55137252807617\"\n\"CUS_LAT\",\"MINIMUM\",\"13.300206184387207\"\n\"CUS_LAT\",\"MODE\",\"32.710819244384766\"\n\"CUS_LAT\",\"NEGATIVE VALUES COUNT\",\"0\"\n\"CUS_LAT\",\"NULL COUNT\",\"0\"\n\"CUS_LAT\",\"PERCENTILES(1)\",\"26.181360168457033\"\n\"CUS_LAT\",\"PERCENTILES(10)\",\"32.289771270751956\"\n\"CUS_LAT\",\"PERCENTILES(25)\",\"35.489356994628906\"\n\"CUS_LAT\",\"PERCENTILES(5)\",\"30.131746292114258\"\n\"CUS_LAT\",\"PERCENTILES(50)\",\"39.55137252807617\"\n\"CUS_LAT\",\"PERCENTILES(75)\",\"42.15902519226074\"\n\"CUS_LAT\",\"PERCENTILES(90)\",\"44.64712829589844\"\n\"CUS_LAT\",\"PERCENTILES(95)\",\"46.43202095031738\"\n\"CUS_LAT\",\"PERCENTILES(99)\",\"48.604799957275375\"\n\"CUS_LAT\",\"POSITIVE VALUES COUNT\",\"8095\"\n\"CUS_LAT\",\"RANGE\",\"57.95329570770264\"\n\"CUS_LAT\",\"SKEWNESS\",\"-0.015400096530567866\"\n\"CUS_LAT\",\"STANDARD DEVIATION\",\"5.254120364297006\"\n\"CUS_LAT\",\"STANDARD ERROR\",\"0.05839714175034867\"\n\"CUS_LAT\",\"SUM\",\"314697.10758018494\"\n\"CUS_LAT\",\"TOP5(1)\",\"71.25350189208984\"\n\"CUS_LAT\",\"TOP5(2)\",\"70.46839904785156\"\n\"CUS_LAT\",\"TOP5(3)\",\"70.42820739746094\"\n\"CUS_LAT\",\"TOP5(4)\",\"70.11841583251953\"\n\"CUS_LAT\",\"TOP5(5)\",\"69.21623992919922\"\n\"CUS_LAT\",\"TRIMMED MEAN\",\"39.191351359043196\"\n\"CUS_LAT\",\"UNCORRECTED SUM OF SQUARES\",\"1.2457446071759447e+07\"\n\"CUS_LAT\",\"UNIQUE ENTITY COUNT\",\"7129\"\n\"CUS_LAT\",\"VARIANCE\",\"27.605780802520503\"\n\"CUS_LAT\",\"ZERO VALUES COUNT\",\"0\"\n\"CUS_LONG\",\"BOTTOM5(1)\",\"-166.4828643798828\"\n\"CUS_LONG\",\"BOTTOM5(2)\",\"-165.59719848632812\"\n\"CUS_LONG\",\"BOTTOM5(3)\",\"-165.1081085205078\"\n\"CUS_LONG\",\"BOTTOM5(4)\",\"-163.41064453125\"\n\"CUS_LONG\",\"BOTTOM5(5)\",\"-162.53785705566406\"\n\"CUS_LONG\",\"COEFFICIENT OF VARIATION\",\"-0.17164864993720907\"\n\"CUS_LONG\",\"CORRECTED SUM OF SQUARES\",\"1.9721333709271182e+06\"\n\"CUS_LONG\",\"COUNT\",\"8095\"\n\"CUS_LONG\",\"GEOMETRIC MEAN\",\"+Inf\"\n\"CUS_LONG\",\"HARMONIC MEAN\",\"-88.91325991075833\"\n\"CUS_LONG\",\"INTERQUARTILE RANGE\",\"17.14020538330078\"\n\"CUS_LONG\",\"KURTOSIS\",\"20.16243215173384\"\n\"CUS_LONG\",\"MAXIMUM\",\"144.74008178710938\"\n\"CUS_LONG\",\"MEAN\",\"-90.9381571458106\"\n\"CUS_LONG\",\"MEDIAN\",\"-88.4452896118164\"\n\"CUS_LONG\",\"MINIMUM\",\"-166.4828643798828\"\n\"CUS_LONG\",\"MODE\",\"-117.23760986328125\"\n\"CUS_LONG\",\"NEGATIVE VALUES COUNT\",\"8092\"\n\"CUS_LONG\",\"NULL COUNT\",\"0\"\n\"CUS_LONG\",\"PERCENTILES(1)\",\"-124.0155110168457\"\n\"CUS_LONG\",\"PERCENTILES(10)\",\"-116.74832611083984\"\n\"CUS_LONG\",\"PERCENTILES(25)\",\"-97.33622360229492\"\n\"CUS_LONG\",\"PERCENTILES(5)\",\"-121.44683685302735\"\n\"CUS_LONG\",\"PERCENTILES(50)\",\"-88.4452896118164\"\n\"CUS_LONG\",\"PERCENTILES(75)\",\"-80.19601821899414\"\n\"CUS_LONG\",\"PERCENTILES(90)\",\"-74.53067932128906\"\n\"CUS_LONG\",\"PERCENTILES(95)\",\"-72.64229965209961\"\n\"CUS_LONG\",\"PERCENTILES(99)\",\"-69.36744934082031\"\n\"CUS_LONG\",\"POSITIVE VALUES COUNT\",\"3\"\n\"CUS_LONG\",\"RANGE\",\"311.2229461669922\"\n\"CUS_LONG\",\"SKEWNESS\",\"0.2849511648203298\"\n\"CUS_LONG\",\"STANDARD DEVIATION\",\"15.609411901856152\"\n\"CUS_LONG\",\"STANDARD ERROR\",\"0.17349146503503005\"\n\"CUS_LONG\",\"SUM\",\"-736144.3820953369\"\n\"CUS_LONG\",\"TOP5(1)\",\"144.74008178710938\"\n\"CUS_LONG\",\"TOP5(2)\",\"144.7022705078125\"\n\"CUS_LONG\",\"TOP5(3)\",\"-64.68656921386719\"\n\"CUS_LONG\",\"TOP5(4)\",\"-65.3077163696289\"\n\"CUS_LONG\",\"TOP5(5)\",\"-65.6987075805664\"\n\"CUS_LONG\",\"TRIMMED MEAN\",\"-88.55109506991509\"\n\"CUS_LONG\",\"UNCORRECTED SUM OF SQUARES\",\"6.891574687191933e+07\"\n\"CUS_LONG\",\"UNIQUE ENTITY COUNT\",\"7131\"\n\"CUS_LONG\",\"VARIANCE\",\"243.65373992180852\"\n\"CUS_LONG\",\"ZERO VALUES COUNT\",\"0\"",
      "text/html": [
       "<div class = \"td-resultset-table-div\" style = \"max-height: 100%; overflow-y: auto\">\n",
       "      <table class=\"tdhistory286619\"><style>\n",
       "      table.tdhistory286619 { display: block !important; min-height: 588px !important; overflow: auto !important; height: 588px !important; width: 100% !important; border: 1px solid rgb(207, 207, 207) !important; border-collapse: collapse !important; ; color: var(--jp-ui-font-color1) !important; }\n",
       "      th.tdhistory286619 { border: 1px solid rgb(198,198,198) !important; border-collapse: collapse !important; ; padding: 2px 5px !important; ; font-size: 13px !important; ; text-align: center !important; white-space: normal !important; color: var(--jp-ui-font-color1) !important; }\n",
       "      th.tdhistory286619:last-child { text-align: left !important; }\n",
       "      tbody.tdhistory286619 tr:nth-child(even) { background: rgba(243, 243, 243, 0.75) !important; }\n",
       "      tbody.tdhistory286619 tr:nth-child(odd) { background: var(--jp-ui-inverse-font-color1) !important; }\n",
       "      td.tdhistory286619 { border: 1px solid rgb(207, 207, 207) !important; border-collapse: collapse !important; ; padding: 2px 5px !important; ; font-size: 13px !important; ; text-align: left !important;          white-space: nowrap !important; overflow:hidden !important; text-overflow:ellipsis !important;; }\n",
       "    </style><thead><tr style= \"background: rgba(243, 243, 243, 0.75)\"><th class=\"tdhistory286619\"></th><th class=\"tdhistory286619\">ATTRIBUTE</th><th class=\"tdhistory286619\">StatName</th><th class=\"tdhistory286619\">StatValue</th></tr></thead><tbody class=\"tdhistory286619 resultset-body\"><tr><th class=\"tdhistory286619\" style= \"background: rgba(243, 243, 243, 0.75)\">1</th><td class=\"tdhistory286619\">CUS_LAT</td><td class=\"tdhistory286619\">BOTTOM5(1)</td><td class=\"tdhistory286619\">13.300206184387207</td></tr><tr><th class=\"tdhistory286619\" style= \"background: rgba(243, 243, 243, 0.75)\">2</th><td class=\"tdhistory286619\">CUS_LAT</td><td class=\"tdhistory286619\">BOTTOM5(2)</td><td class=\"tdhistory286619\">13.377481460571289</td></tr><tr><th class=\"tdhistory286619\" style= \"background: rgba(243, 243, 243, 0.75)\">3</th><td class=\"tdhistory286619\">CUS_LAT</td><td class=\"tdhistory286619\">BOTTOM5(3)</td><td class=\"tdhistory286619\">17.743072509765625</td></tr><tr><th class=\"tdhistory286619\" style= \"background: rgba(243, 243, 243, 0.75)\">4</th><td class=\"tdhistory286619\">CUS_LAT</td><td class=\"tdhistory286619\">BOTTOM5(4)</td><td class=\"tdhistory286619\">17.989852905273438</td></tr><tr><th class=\"tdhistory286619\" style= \"background: rgba(243, 243, 243, 0.75)\">5</th><td class=\"tdhistory286619\">CUS_LAT</td><td class=\"tdhistory286619\">BOTTOM5(5)</td><td class=\"tdhistory286619\">17.995441436767578</td></tr><tr><th class=\"tdhistory286619\" style= \"background: rgba(243, 243, 243, 0.75)\">6</th><td class=\"tdhistory286619\">CUS_LAT</td><td class=\"tdhistory286619\">COEFFICIENT OF VARIATION</td><td class=\"tdhistory286619\">0.13515251117504176</td></tr><tr><th class=\"tdhistory286619\" style= \"background: rgba(243, 243, 243, 0.75)\">7</th><td class=\"tdhistory286619\">CUS_LAT</td><td class=\"tdhistory286619\">CORRECTED SUM OF SQUARES</td><td class=\"tdhistory286619\">223441.18981560096</td></tr><tr><th class=\"tdhistory286619\" style= \"background: rgba(243, 243, 243, 0.75)\">8</th><td class=\"tdhistory286619\">CUS_LAT</td><td class=\"tdhistory286619\">COUNT</td><td class=\"tdhistory286619\">8095</td></tr><tr><th class=\"tdhistory286619\" style= \"background: rgba(243, 243, 243, 0.75)\">9</th><td class=\"tdhistory286619\">CUS_LAT</td><td class=\"tdhistory286619\">GEOMETRIC MEAN</td><td class=\"tdhistory286619\">+Inf</td></tr><tr><th class=\"tdhistory286619\" style= \"background: rgba(243, 243, 243, 0.75)\">10</th><td class=\"tdhistory286619\">CUS_LAT</td><td class=\"tdhistory286619\">HARMONIC MEAN</td><td class=\"tdhistory286619\">38.092770368744866</td></tr><tr><th class=\"tdhistory286619\" style= \"background: rgba(243, 243, 243, 0.75)\">11</th><td class=\"tdhistory286619\">CUS_LAT</td><td class=\"tdhistory286619\">INTERQUARTILE RANGE</td><td class=\"tdhistory286619\">6.669668197631836</td></tr><tr><th class=\"tdhistory286619\" style= \"background: rgba(243, 243, 243, 0.75)\">12</th><td class=\"tdhistory286619\">CUS_LAT</td><td class=\"tdhistory286619\">KURTOSIS</td><td class=\"tdhistory286619\">3.012648823503318</td></tr><tr><th class=\"tdhistory286619\" style= \"background: rgba(243, 243, 243, 0.75)\">13</th><td class=\"tdhistory286619\">CUS_LAT</td><td class=\"tdhistory286619\">MAXIMUM</td><td class=\"tdhistory286619\">71.25350189208984</td></tr><tr><th class=\"tdhistory286619\" style= \"background: rgba(243, 243, 243, 0.75)\">14</th><td class=\"tdhistory286619\">CUS_LAT</td><td class=\"tdhistory286619\">MEAN</td><td class=\"tdhistory286619\">38.87549198025756</td></tr><tr><th class=\"tdhistory286619\" style= \"background: rgba(243, 243, 243, 0.75)\">15</th><td class=\"tdhistory286619\">CUS_LAT</td><td class=\"tdhistory286619\">MEDIAN</td><td class=\"tdhistory286619\">39.55137252807617</td></tr><tr><th class=\"tdhistory286619\" style= \"background: rgba(243, 243, 243, 0.75)\">16</th><td class=\"tdhistory286619\">CUS_LAT</td><td class=\"tdhistory286619\">MINIMUM</td><td class=\"tdhistory286619\">13.300206184387207</td></tr><tr><th class=\"tdhistory286619\" style= \"background: rgba(243, 243, 243, 0.75)\">17</th><td class=\"tdhistory286619\">CUS_LAT</td><td class=\"tdhistory286619\">MODE</td><td class=\"tdhistory286619\">32.710819244384766</td></tr><tr><th class=\"tdhistory286619\" style= \"background: rgba(243, 243, 243, 0.75)\">18</th><td class=\"tdhistory286619\">CUS_LAT</td><td class=\"tdhistory286619\">NEGATIVE VALUES COUNT</td><td class=\"tdhistory286619\">0</td></tr><tr><th class=\"tdhistory286619\" style= \"background: rgba(243, 243, 243, 0.75)\">19</th><td class=\"tdhistory286619\">CUS_LAT</td><td class=\"tdhistory286619\">NULL COUNT</td><td class=\"tdhistory286619\">0</td></tr><tr><th class=\"tdhistory286619\" style= \"background: rgba(243, 243, 243, 0.75)\">20</th><td class=\"tdhistory286619\">CUS_LAT</td><td class=\"tdhistory286619\">PERCENTILES(1)</td><td class=\"tdhistory286619\">26.181360168457033</td></tr><tr><th class=\"tdhistory286619\" style= \"background: rgba(243, 243, 243, 0.75)\">21</th><td class=\"tdhistory286619\">CUS_LAT</td><td class=\"tdhistory286619\">PERCENTILES(10)</td><td class=\"tdhistory286619\">32.289771270751956</td></tr><tr><th class=\"tdhistory286619\" style= \"background: rgba(243, 243, 243, 0.75)\">22</th><td class=\"tdhistory286619\">CUS_LAT</td><td class=\"tdhistory286619\">PERCENTILES(25)</td><td class=\"tdhistory286619\">35.489356994628906</td></tr><tr><th class=\"tdhistory286619\" style= \"background: rgba(243, 243, 243, 0.75)\">23</th><td class=\"tdhistory286619\">CUS_LAT</td><td class=\"tdhistory286619\">PERCENTILES(5)</td><td class=\"tdhistory286619\">30.131746292114258</td></tr><tr><th class=\"tdhistory286619\" style= \"background: rgba(243, 243, 243, 0.75)\">24</th><td class=\"tdhistory286619\">CUS_LAT</td><td class=\"tdhistory286619\">PERCENTILES(50)</td><td class=\"tdhistory286619\">39.55137252807617</td></tr><tr><th class=\"tdhistory286619\" style= \"background: rgba(243, 243, 243, 0.75)\">25</th><td class=\"tdhistory286619\">CUS_LAT</td><td class=\"tdhistory286619\">PERCENTILES(75)</td><td class=\"tdhistory286619\">42.15902519226074</td></tr><tr><th class=\"tdhistory286619\" style= \"background: rgba(243, 243, 243, 0.75)\">26</th><td class=\"tdhistory286619\">CUS_LAT</td><td class=\"tdhistory286619\">PERCENTILES(90)</td><td class=\"tdhistory286619\">44.64712829589844</td></tr><tr><th class=\"tdhistory286619\" style= \"background: rgba(243, 243, 243, 0.75)\">27</th><td class=\"tdhistory286619\">CUS_LAT</td><td class=\"tdhistory286619\">PERCENTILES(95)</td><td class=\"tdhistory286619\">46.43202095031738</td></tr><tr><th class=\"tdhistory286619\" style= \"background: rgba(243, 243, 243, 0.75)\">28</th><td class=\"tdhistory286619\">CUS_LAT</td><td class=\"tdhistory286619\">PERCENTILES(99)</td><td class=\"tdhistory286619\">48.604799957275375</td></tr><tr><th class=\"tdhistory286619\" style= \"background: rgba(243, 243, 243, 0.75)\">29</th><td class=\"tdhistory286619\">CUS_LAT</td><td class=\"tdhistory286619\">POSITIVE VALUES COUNT</td><td class=\"tdhistory286619\">8095</td></tr><tr><th class=\"tdhistory286619\" style= \"background: rgba(243, 243, 243, 0.75)\">30</th><td class=\"tdhistory286619\">CUS_LAT</td><td class=\"tdhistory286619\">RANGE</td><td class=\"tdhistory286619\">57.95329570770264</td></tr><tr><th class=\"tdhistory286619\" style= \"background: rgba(243, 243, 243, 0.75)\">31</th><td class=\"tdhistory286619\">CUS_LAT</td><td class=\"tdhistory286619\">SKEWNESS</td><td class=\"tdhistory286619\">-0.015400096530567866</td></tr><tr><th class=\"tdhistory286619\" style= \"background: rgba(243, 243, 243, 0.75)\">32</th><td class=\"tdhistory286619\">CUS_LAT</td><td class=\"tdhistory286619\">STANDARD DEVIATION</td><td class=\"tdhistory286619\">5.254120364297006</td></tr><tr><th class=\"tdhistory286619\" style= \"background: rgba(243, 243, 243, 0.75)\">33</th><td class=\"tdhistory286619\">CUS_LAT</td><td class=\"tdhistory286619\">STANDARD ERROR</td><td class=\"tdhistory286619\">0.05839714175034867</td></tr><tr><th class=\"tdhistory286619\" style= \"background: rgba(243, 243, 243, 0.75)\">34</th><td class=\"tdhistory286619\">CUS_LAT</td><td class=\"tdhistory286619\">SUM</td><td class=\"tdhistory286619\">314697.10758018494</td></tr><tr><th class=\"tdhistory286619\" style= \"background: rgba(243, 243, 243, 0.75)\">35</th><td class=\"tdhistory286619\">CUS_LAT</td><td class=\"tdhistory286619\">TOP5(1)</td><td class=\"tdhistory286619\">71.25350189208984</td></tr><tr><th class=\"tdhistory286619\" style= \"background: rgba(243, 243, 243, 0.75)\">36</th><td class=\"tdhistory286619\">CUS_LAT</td><td class=\"tdhistory286619\">TOP5(2)</td><td class=\"tdhistory286619\">70.46839904785156</td></tr><tr><th class=\"tdhistory286619\" style= \"background: rgba(243, 243, 243, 0.75)\">37</th><td class=\"tdhistory286619\">CUS_LAT</td><td class=\"tdhistory286619\">TOP5(3)</td><td class=\"tdhistory286619\">70.42820739746094</td></tr><tr><th class=\"tdhistory286619\" style= \"background: rgba(243, 243, 243, 0.75)\">38</th><td class=\"tdhistory286619\">CUS_LAT</td><td class=\"tdhistory286619\">TOP5(4)</td><td class=\"tdhistory286619\">70.11841583251953</td></tr><tr><th class=\"tdhistory286619\" style= \"background: rgba(243, 243, 243, 0.75)\">39</th><td class=\"tdhistory286619\">CUS_LAT</td><td class=\"tdhistory286619\">TOP5(5)</td><td class=\"tdhistory286619\">69.21623992919922</td></tr><tr><th class=\"tdhistory286619\" style= \"background: rgba(243, 243, 243, 0.75)\">40</th><td class=\"tdhistory286619\">CUS_LAT</td><td class=\"tdhistory286619\">TRIMMED MEAN</td><td class=\"tdhistory286619\">39.191351359043196</td></tr><tr><th class=\"tdhistory286619\" style= \"background: rgba(243, 243, 243, 0.75)\">41</th><td class=\"tdhistory286619\">CUS_LAT</td><td class=\"tdhistory286619\">UNCORRECTED SUM OF SQUARES</td><td class=\"tdhistory286619\">1.2457446071759447e+07</td></tr><tr><th class=\"tdhistory286619\" style= \"background: rgba(243, 243, 243, 0.75)\">42</th><td class=\"tdhistory286619\">CUS_LAT</td><td class=\"tdhistory286619\">UNIQUE ENTITY COUNT</td><td class=\"tdhistory286619\">7129</td></tr><tr><th class=\"tdhistory286619\" style= \"background: rgba(243, 243, 243, 0.75)\">43</th><td class=\"tdhistory286619\">CUS_LAT</td><td class=\"tdhistory286619\">VARIANCE</td><td class=\"tdhistory286619\">27.605780802520503</td></tr><tr><th class=\"tdhistory286619\" style= \"background: rgba(243, 243, 243, 0.75)\">44</th><td class=\"tdhistory286619\">CUS_LAT</td><td class=\"tdhistory286619\">ZERO VALUES COUNT</td><td class=\"tdhistory286619\">0</td></tr><tr><th class=\"tdhistory286619\" style= \"background: rgba(243, 243, 243, 0.75)\">45</th><td class=\"tdhistory286619\">CUS_LONG</td><td class=\"tdhistory286619\">BOTTOM5(1)</td><td class=\"tdhistory286619\">-166.4828643798828</td></tr><tr><th class=\"tdhistory286619\" style= \"background: rgba(243, 243, 243, 0.75)\">46</th><td class=\"tdhistory286619\">CUS_LONG</td><td class=\"tdhistory286619\">BOTTOM5(2)</td><td class=\"tdhistory286619\">-165.59719848632812</td></tr><tr><th class=\"tdhistory286619\" style= \"background: rgba(243, 243, 243, 0.75)\">47</th><td class=\"tdhistory286619\">CUS_LONG</td><td class=\"tdhistory286619\">BOTTOM5(3)</td><td class=\"tdhistory286619\">-165.1081085205078</td></tr><tr><th class=\"tdhistory286619\" style= \"background: rgba(243, 243, 243, 0.75)\">48</th><td class=\"tdhistory286619\">CUS_LONG</td><td class=\"tdhistory286619\">BOTTOM5(4)</td><td class=\"tdhistory286619\">-163.41064453125</td></tr><tr><th class=\"tdhistory286619\" style= \"background: rgba(243, 243, 243, 0.75)\">49</th><td class=\"tdhistory286619\">CUS_LONG</td><td class=\"tdhistory286619\">BOTTOM5(5)</td><td class=\"tdhistory286619\">-162.53785705566406</td></tr><tr><th class=\"tdhistory286619\" style= \"background: rgba(243, 243, 243, 0.75)\">50</th><td class=\"tdhistory286619\">CUS_LONG</td><td class=\"tdhistory286619\">COEFFICIENT OF VARIATION</td><td class=\"tdhistory286619\">-0.17164864993720907</td></tr><tr><th class=\"tdhistory286619\" style= \"background: rgba(243, 243, 243, 0.75)\">51</th><td class=\"tdhistory286619\">CUS_LONG</td><td class=\"tdhistory286619\">CORRECTED SUM OF SQUARES</td><td class=\"tdhistory286619\">1.9721333709271182e+06</td></tr><tr><th class=\"tdhistory286619\" style= \"background: rgba(243, 243, 243, 0.75)\">52</th><td class=\"tdhistory286619\">CUS_LONG</td><td class=\"tdhistory286619\">COUNT</td><td class=\"tdhistory286619\">8095</td></tr><tr><th class=\"tdhistory286619\" style= \"background: rgba(243, 243, 243, 0.75)\">53</th><td class=\"tdhistory286619\">CUS_LONG</td><td class=\"tdhistory286619\">GEOMETRIC MEAN</td><td class=\"tdhistory286619\">+Inf</td></tr><tr><th class=\"tdhistory286619\" style= \"background: rgba(243, 243, 243, 0.75)\">54</th><td class=\"tdhistory286619\">CUS_LONG</td><td class=\"tdhistory286619\">HARMONIC MEAN</td><td class=\"tdhistory286619\">-88.91325991075833</td></tr><tr><th class=\"tdhistory286619\" style= \"background: rgba(243, 243, 243, 0.75)\">55</th><td class=\"tdhistory286619\">CUS_LONG</td><td class=\"tdhistory286619\">INTERQUARTILE RANGE</td><td class=\"tdhistory286619\">17.14020538330078</td></tr><tr><th class=\"tdhistory286619\" style= \"background: rgba(243, 243, 243, 0.75)\">56</th><td class=\"tdhistory286619\">CUS_LONG</td><td class=\"tdhistory286619\">KURTOSIS</td><td class=\"tdhistory286619\">20.16243215173384</td></tr><tr><th class=\"tdhistory286619\" style= \"background: rgba(243, 243, 243, 0.75)\">57</th><td class=\"tdhistory286619\">CUS_LONG</td><td class=\"tdhistory286619\">MAXIMUM</td><td class=\"tdhistory286619\">144.74008178710938</td></tr><tr><th class=\"tdhistory286619\" style= \"background: rgba(243, 243, 243, 0.75)\">58</th><td class=\"tdhistory286619\">CUS_LONG</td><td class=\"tdhistory286619\">MEAN</td><td class=\"tdhistory286619\">-90.9381571458106</td></tr><tr><th class=\"tdhistory286619\" style= \"background: rgba(243, 243, 243, 0.75)\">59</th><td class=\"tdhistory286619\">CUS_LONG</td><td class=\"tdhistory286619\">MEDIAN</td><td class=\"tdhistory286619\">-88.4452896118164</td></tr><tr><th class=\"tdhistory286619\" style= \"background: rgba(243, 243, 243, 0.75)\">60</th><td class=\"tdhistory286619\">CUS_LONG</td><td class=\"tdhistory286619\">MINIMUM</td><td class=\"tdhistory286619\">-166.4828643798828</td></tr><tr><th class=\"tdhistory286619\" style= \"background: rgba(243, 243, 243, 0.75)\">61</th><td class=\"tdhistory286619\">CUS_LONG</td><td class=\"tdhistory286619\">MODE</td><td class=\"tdhistory286619\">-117.23760986328125</td></tr><tr><th class=\"tdhistory286619\" style= \"background: rgba(243, 243, 243, 0.75)\">62</th><td class=\"tdhistory286619\">CUS_LONG</td><td class=\"tdhistory286619\">NEGATIVE VALUES COUNT</td><td class=\"tdhistory286619\">8092</td></tr><tr><th class=\"tdhistory286619\" style= \"background: rgba(243, 243, 243, 0.75)\">63</th><td class=\"tdhistory286619\">CUS_LONG</td><td class=\"tdhistory286619\">NULL COUNT</td><td class=\"tdhistory286619\">0</td></tr><tr><th class=\"tdhistory286619\" style= \"background: rgba(243, 243, 243, 0.75)\">64</th><td class=\"tdhistory286619\">CUS_LONG</td><td class=\"tdhistory286619\">PERCENTILES(1)</td><td class=\"tdhistory286619\">-124.0155110168457</td></tr><tr><th class=\"tdhistory286619\" style= \"background: rgba(243, 243, 243, 0.75)\">65</th><td class=\"tdhistory286619\">CUS_LONG</td><td class=\"tdhistory286619\">PERCENTILES(10)</td><td class=\"tdhistory286619\">-116.74832611083984</td></tr><tr><th class=\"tdhistory286619\" style= \"background: rgba(243, 243, 243, 0.75)\">66</th><td class=\"tdhistory286619\">CUS_LONG</td><td class=\"tdhistory286619\">PERCENTILES(25)</td><td class=\"tdhistory286619\">-97.33622360229492</td></tr><tr><th class=\"tdhistory286619\" style= \"background: rgba(243, 243, 243, 0.75)\">67</th><td class=\"tdhistory286619\">CUS_LONG</td><td class=\"tdhistory286619\">PERCENTILES(5)</td><td class=\"tdhistory286619\">-121.44683685302735</td></tr><tr><th class=\"tdhistory286619\" style= \"background: rgba(243, 243, 243, 0.75)\">68</th><td class=\"tdhistory286619\">CUS_LONG</td><td class=\"tdhistory286619\">PERCENTILES(50)</td><td class=\"tdhistory286619\">-88.4452896118164</td></tr><tr><th class=\"tdhistory286619\" style= \"background: rgba(243, 243, 243, 0.75)\">69</th><td class=\"tdhistory286619\">CUS_LONG</td><td class=\"tdhistory286619\">PERCENTILES(75)</td><td class=\"tdhistory286619\">-80.19601821899414</td></tr><tr><th class=\"tdhistory286619\" style= \"background: rgba(243, 243, 243, 0.75)\">70</th><td class=\"tdhistory286619\">CUS_LONG</td><td class=\"tdhistory286619\">PERCENTILES(90)</td><td class=\"tdhistory286619\">-74.53067932128906</td></tr><tr><th class=\"tdhistory286619\" style= \"background: rgba(243, 243, 243, 0.75)\">71</th><td class=\"tdhistory286619\">CUS_LONG</td><td class=\"tdhistory286619\">PERCENTILES(95)</td><td class=\"tdhistory286619\">-72.64229965209961</td></tr><tr><th class=\"tdhistory286619\" style= \"background: rgba(243, 243, 243, 0.75)\">72</th><td class=\"tdhistory286619\">CUS_LONG</td><td class=\"tdhistory286619\">PERCENTILES(99)</td><td class=\"tdhistory286619\">-69.36744934082031</td></tr><tr><th class=\"tdhistory286619\" style= \"background: rgba(243, 243, 243, 0.75)\">73</th><td class=\"tdhistory286619\">CUS_LONG</td><td class=\"tdhistory286619\">POSITIVE VALUES COUNT</td><td class=\"tdhistory286619\">3</td></tr><tr><th class=\"tdhistory286619\" style= \"background: rgba(243, 243, 243, 0.75)\">74</th><td class=\"tdhistory286619\">CUS_LONG</td><td class=\"tdhistory286619\">RANGE</td><td class=\"tdhistory286619\">311.2229461669922</td></tr><tr><th class=\"tdhistory286619\" style= \"background: rgba(243, 243, 243, 0.75)\">75</th><td class=\"tdhistory286619\">CUS_LONG</td><td class=\"tdhistory286619\">SKEWNESS</td><td class=\"tdhistory286619\">0.2849511648203298</td></tr><tr><th class=\"tdhistory286619\" style= \"background: rgba(243, 243, 243, 0.75)\">76</th><td class=\"tdhistory286619\">CUS_LONG</td><td class=\"tdhistory286619\">STANDARD DEVIATION</td><td class=\"tdhistory286619\">15.609411901856152</td></tr><tr><th class=\"tdhistory286619\" style= \"background: rgba(243, 243, 243, 0.75)\">77</th><td class=\"tdhistory286619\">CUS_LONG</td><td class=\"tdhistory286619\">STANDARD ERROR</td><td class=\"tdhistory286619\">0.17349146503503005</td></tr><tr><th class=\"tdhistory286619\" style= \"background: rgba(243, 243, 243, 0.75)\">78</th><td class=\"tdhistory286619\">CUS_LONG</td><td class=\"tdhistory286619\">SUM</td><td class=\"tdhistory286619\">-736144.3820953369</td></tr><tr><th class=\"tdhistory286619\" style= \"background: rgba(243, 243, 243, 0.75)\">79</th><td class=\"tdhistory286619\">CUS_LONG</td><td class=\"tdhistory286619\">TOP5(1)</td><td class=\"tdhistory286619\">144.74008178710938</td></tr><tr><th class=\"tdhistory286619\" style= \"background: rgba(243, 243, 243, 0.75)\">80</th><td class=\"tdhistory286619\">CUS_LONG</td><td class=\"tdhistory286619\">TOP5(2)</td><td class=\"tdhistory286619\">144.7022705078125</td></tr><tr><th class=\"tdhistory286619\" style= \"background: rgba(243, 243, 243, 0.75)\">81</th><td class=\"tdhistory286619\">CUS_LONG</td><td class=\"tdhistory286619\">TOP5(3)</td><td class=\"tdhistory286619\">-64.68656921386719</td></tr><tr><th class=\"tdhistory286619\" style= \"background: rgba(243, 243, 243, 0.75)\">82</th><td class=\"tdhistory286619\">CUS_LONG</td><td class=\"tdhistory286619\">TOP5(4)</td><td class=\"tdhistory286619\">-65.3077163696289</td></tr><tr><th class=\"tdhistory286619\" style= \"background: rgba(243, 243, 243, 0.75)\">83</th><td class=\"tdhistory286619\">CUS_LONG</td><td class=\"tdhistory286619\">TOP5(5)</td><td class=\"tdhistory286619\">-65.6987075805664</td></tr><tr><th class=\"tdhistory286619\" style= \"background: rgba(243, 243, 243, 0.75)\">84</th><td class=\"tdhistory286619\">CUS_LONG</td><td class=\"tdhistory286619\">TRIMMED MEAN</td><td class=\"tdhistory286619\">-88.55109506991509</td></tr><tr><th class=\"tdhistory286619\" style= \"background: rgba(243, 243, 243, 0.75)\">85</th><td class=\"tdhistory286619\">CUS_LONG</td><td class=\"tdhistory286619\">UNCORRECTED SUM OF SQUARES</td><td class=\"tdhistory286619\">6.891574687191933e+07</td></tr><tr><th class=\"tdhistory286619\" style= \"background: rgba(243, 243, 243, 0.75)\">86</th><td class=\"tdhistory286619\">CUS_LONG</td><td class=\"tdhistory286619\">UNIQUE ENTITY COUNT</td><td class=\"tdhistory286619\">7131</td></tr><tr><th class=\"tdhistory286619\" style= \"background: rgba(243, 243, 243, 0.75)\">87</th><td class=\"tdhistory286619\">CUS_LONG</td><td class=\"tdhistory286619\">VARIANCE</td><td class=\"tdhistory286619\">243.65373992180852</td></tr><tr><th class=\"tdhistory286619\" style= \"background: rgba(243, 243, 243, 0.75)\">88</th><td class=\"tdhistory286619\">CUS_LONG</td><td class=\"tdhistory286619\">ZERO VALUES COUNT</td><td class=\"tdhistory286619\">0</td></tr></tbody></table></div>"
      ]
     },
     "execution_count": 30,
     "metadata": {
      "application/vnd.teradata.resultset": "{\"resultSetID\":\"/home/jovyan/JupyterLabRoot/Teradata/Resultsets/2023.07.23_02.24.22.829_UTC\",\"historyID\":109,\"chunkID\":\"00001\",\"sessionid\":\"\",\"portnum\":\"\",\"dockermode\":\"docker\",\"totalRowCount\":88,\"chunkCount\":0,\"rowLimit\":0,\"columnMetadata\":[{\"columnName\":\"ATTRIBUTE\",\"columnTypeName\":\"VARCHAR\",\"length\":128,\"scale\":128},{\"columnNumber\":1,\"columnName\":\"StatName\",\"columnTypeName\":\"VARCHAR\",\"length\":31,\"scale\":31},{\"columnNumber\":2,\"columnName\":\"StatValue\",\"columnTypeName\":\"FLOAT\"}]}"
     },
     "output_type": "execute_result"
    }
   ],
   "source": [
    "SELECT * FROM TD_UnivariateStatistics (\n",
    "  ON CUSTOMER AS InputTable\n",
    "  USING\n",
    "  TargetColumns ('CUS_LONG','CUS_LAT')\n",
    ") AS dt ORDER BY 1,2;"
   ]
  },
  {
   "cell_type": "markdown",
   "id": "4d6db8d2-f472-4c58-937c-fc47a3ae1b75",
   "metadata": {},
   "source": [
    "# Section 4 - Data Analysis\n",
    "\n",
    "### Data Aggregations and Plotting"
   ]
  },
  {
   "cell_type": "code",
   "execution_count": 12,
   "id": "6fed7c68-99d8-4e0b-98d2-8752771ac036",
   "metadata": {},
   "outputs": [
    {
     "data": {
      "application/vnd.teradata.resultset": "\"CALL_TYPE\",\"N\"\n\"Complaint Call\",\"2155\"\n\"Neutral Call\",\"2036\"\n\"Return Policy Inquiry\",\"1222\"\n\"Purchase\",\"1055\"\n\"Product Return\",\"753\"\n\"Service Inquiry\",\"666\"",
      "text/html": [
       "<div class = \"td-resultset-table-div\" style = \"max-height: 100%; overflow-y: auto\">\n",
       "      <table class=\"tdhistory948826\"><style>\n",
       "      table.tdhistory948826 { display: block !important; min-height: 210px !important; overflow: auto !important; height: 210px !important; width: 100% !important; border: 1px solid rgb(207, 207, 207) !important; border-collapse: collapse !important; ; color: var(--jp-ui-font-color1) !important; }\n",
       "      th.tdhistory948826 { border: 1px solid rgb(198,198,198) !important; border-collapse: collapse !important; ; padding: 2px 5px !important; ; font-size: 13px !important; ; text-align: center !important; white-space: normal !important; color: var(--jp-ui-font-color1) !important; }\n",
       "      th.tdhistory948826:last-child { text-align: left !important; }\n",
       "      tbody.tdhistory948826 tr:nth-child(even) { background: rgba(243, 243, 243, 0.75) !important; }\n",
       "      tbody.tdhistory948826 tr:nth-child(odd) { background: var(--jp-ui-inverse-font-color1) !important; }\n",
       "      td.tdhistory948826 { border: 1px solid rgb(207, 207, 207) !important; border-collapse: collapse !important; ; padding: 2px 5px !important; ; font-size: 13px !important; ; text-align: left !important;          white-space: nowrap !important; overflow:hidden !important; text-overflow:ellipsis !important;; }\n",
       "    </style><thead><tr style= \"background: rgba(243, 243, 243, 0.75)\"><th class=\"tdhistory948826\"></th><th class=\"tdhistory948826\">CALL_TYPE</th><th class=\"tdhistory948826\">N</th></tr></thead><tbody class=\"tdhistory948826 resultset-body\"><tr><th class=\"tdhistory948826\" style= \"background: rgba(243, 243, 243, 0.75)\">1</th><td class=\"tdhistory948826\">Complaint Call</td><td class=\"tdhistory948826\">2155</td></tr><tr><th class=\"tdhistory948826\" style= \"background: rgba(243, 243, 243, 0.75)\">2</th><td class=\"tdhistory948826\">Neutral Call</td><td class=\"tdhistory948826\">2036</td></tr><tr><th class=\"tdhistory948826\" style= \"background: rgba(243, 243, 243, 0.75)\">3</th><td class=\"tdhistory948826\">Return Policy Inquiry</td><td class=\"tdhistory948826\">1222</td></tr><tr><th class=\"tdhistory948826\" style= \"background: rgba(243, 243, 243, 0.75)\">4</th><td class=\"tdhistory948826\">Purchase</td><td class=\"tdhistory948826\">1055</td></tr><tr><th class=\"tdhistory948826\" style= \"background: rgba(243, 243, 243, 0.75)\">5</th><td class=\"tdhistory948826\">Product Return</td><td class=\"tdhistory948826\">753</td></tr><tr><th class=\"tdhistory948826\" style= \"background: rgba(243, 243, 243, 0.75)\">6</th><td class=\"tdhistory948826\">Service Inquiry</td><td class=\"tdhistory948826\">666</td></tr></tbody></table></div>"
      ]
     },
     "execution_count": 12,
     "metadata": {
      "application/vnd.teradata.resultset": "{\"resultSetID\":\"/home/jovyan/JupyterLabRoot/Teradata/Resultsets/2023.07.23_01.29.22.099_UTC\",\"historyID\":94,\"chunkID\":\"00001\",\"sessionid\":\"\",\"portnum\":\"\",\"dockermode\":\"docker\",\"totalRowCount\":6,\"chunkCount\":0,\"rowLimit\":0,\"columnMetadata\":[{\"columnName\":\"CALL_TYPE\",\"columnTypeName\":\"VARCHAR\",\"length\":50,\"scale\":50},{\"columnNumber\":1,\"columnName\":\"N\",\"columnTypeName\":\"INTEGER\"}]}"
     },
     "output_type": "execute_result"
    }
   ],
   "source": [
    "SELECT CALL_TYPE, COUNT(1) N FROM CALL_CENTER_CALLS GROUP BY 1 ORDER BY 2 DESC;"
   ]
  },
  {
   "cell_type": "code",
   "execution_count": 13,
   "id": "918d6f48-3d5e-4779-8719-4417e99946d1",
   "metadata": {},
   "outputs": [
    {
     "data": {
      "application/vnd.vegalite.v3+json": {
       "$schema": "https://vega.github.io/schema/vega-lite/v3.json",
       "data": {
        "format": {
         "type": "csv"
        },
        "values": "\"CALL_TYPE\",\"N\"\n\"Complaint Call\",\"2155\"\n\"Neutral Call\",\"2036\"\n\"Return Policy Inquiry\",\"1222\"\n\"Purchase\",\"1055\"\n\"Product Return\",\"753\"\n\"Service Inquiry\",\"666\"\n"
       },
       "encoding": {
        "x": {
         "axis": {
          "grid": true,
          "title": "CALL_TYPE"
         },
         "field": "CALL_TYPE",
         "type": "nominal"
        },
        "y": {
         "axis": {
          "grid": true,
          "title": "N"
         },
         "field": "N",
         "type": "quantitative"
        }
       },
       "mark": {
        "color": "#4C78A8",
        "type": "bar"
       },
       "title": "<no value>"
      },
      "image/png": "[encoded data removed]"
     },
     "execution_count": 13,
     "metadata": {
      "application/vnd.teradata.resultset": ""
     },
     "output_type": "execute_result"
    }
   ],
   "source": [
    "%chart CALL_TYPE, N"
   ]
  },
  {
   "cell_type": "code",
   "execution_count": 15,
   "id": "fe582ad3-abdf-4234-90b4-bef773087724",
   "metadata": {},
   "outputs": [
    {
     "data": {
      "application/vnd.vegalite.v3+json": {
       "$schema": "https://vega.github.io/schema/vega-lite/v3.json",
       "data": {
        "format": {
         "type": "csv"
        },
        "values": "\"CALL_TYPE\",\"N\"\n\"Complaint Call\",\"2155\"\n\"Neutral Call\",\"2036\"\n\"Return Policy Inquiry\",\"1222\"\n\"Purchase\",\"1055\"\n\"Product Return\",\"753\"\n\"Service Inquiry\",\"666\"\n"
       },
       "encoding": {
        "x": {
         "axis": {
          "grid": true,
          "title": "CALL_TYPE"
         },
         "field": "CALL_TYPE",
         "type": "nominal"
        },
        "y": {
         "axis": {
          "grid": true,
          "title": "N"
         },
         "field": "N",
         "type": "quantitative"
        }
       },
       "height": "400",
       "mark": {
        "color": "#4C78A8",
        "type": "bar"
       },
       "title": "FREQ BY CALL TYPE",
       "width": "900"
      },
      "image/png": "[encoded data removed]"
     },
     "execution_count": 15,
     "metadata": {
      "application/vnd.teradata.resultset": ""
     },
     "output_type": "execute_result"
    }
   ],
   "source": [
    "%chart CALL_TYPE, N, Title= FREQ BY CALL TYPE, Height=400, Width=800"
   ]
  },
  {
   "cell_type": "markdown",
   "id": "e0a3e3ad-fd43-427f-88f3-a4c9fcd20bf7",
   "metadata": {},
   "source": [
    "### Building the Customer Events Table (Customer 360)"
   ]
  },
  {
   "cell_type": "code",
   "execution_count": 16,
   "id": "0b33fbf5-ccdf-445d-8585-a76be03b8f14",
   "metadata": {},
   "outputs": [
    {
     "data": {
      "text/plain": [
       "Success: 0 rows affected"
      ]
     },
     "execution_count": 16,
     "metadata": {
      "application/vnd.teradata.resultset": ""
     },
     "output_type": "execute_result"
    }
   ],
   "source": [
    "CREATE TABLE RETAIL_COMPNEW\n",
    "(CUSTOMER_ID,DATESTAMP,EVENT,CHURN_FLAG) AS \n",
    "(SELECT CU.CUSTOMER_ID AS CUSTOMER_ID\n",
    "    ,CC.CC_CALL_DT AS DATESTAMP\n",
    "    ,CC.CALL_TYPE AS EVENT\n",
    "    ,CU.CHURN_FLAG AS CHURN_FLAG\n",
    "FROM CUSTOMER CU, CALL_CENTER_CALLS CC\n",
    "WHERE CU.CUSTOMER_ID = CC.CUSTOMER_ID\n",
    "UNION ALL\n",
    "SELECT CU.CUSTOMER_ID AS CUSTOMER_ID\n",
    "    ,ST.VISIT_DT AS DATESTAMP\n",
    "    ,ST.ACTION AS EVENT\n",
    "    ,CU.CHURN_FLAG AS CHURN_FLAG\n",
    "FROM CUSTOMER CU, STORE_VISIT ST\n",
    "WHERE CU.CUSTOMER_ID = ST.CUSTOMER_ID\n",
    "UNION ALL\n",
    "SELECT CU.CUSTOMER_ID AS CUSTOMER_ID\n",
    "    ,WB.TD_TIMECODE AS DATESTAMP\n",
    "    ,WB.PAGE AS EVENT\n",
    "    ,CU.CHURN_FLAG AS CHURN_FLAG\n",
    "FROM CUSTOMER CU, WEB WB\n",
    "WHERE CU.CUSTOMER_ID = WB.CUSTOMER_ID)\n",
    "WITH DATA;"
   ]
  },
  {
   "cell_type": "code",
   "execution_count": 17,
   "id": "73e7ff55-ae5a-450d-8cc8-6a0c45267021",
   "metadata": {},
   "outputs": [
    {
     "data": {
      "application/vnd.teradata.resultset": "\"CUSTOMER_ID\",\"DATESTAMP\",\"EVENT\",\"CHURN_FLAG\"\n\"64497\",\"2018-03-18 10:25:00.000000\",\"Return Policy Inquiry\",\"Y\"\n\"64497\",\"2018-03-18 10:25:00.000000\",\"Complaint Call\",\"Y\"\n\"64497\",\"2018-03-18 10:29:00.000000\",\"Product Browsing\",\"Y\"\n\"64497\",\"2018-03-19 23:44:00.000000\",\"Web Chat\",\"Y\"\n\"64497\",\"2018-03-21 14:16:00.000000\",\"Product Return\",\"Y\"",
      "text/html": [
       "<div class = \"td-resultset-table-div\" style = \"max-height: 100%; overflow-y: auto\">\n",
       "      <table class=\"tdhistory200440\"><style>\n",
       "      table.tdhistory200440 { display: block !important; min-height: 189px !important; overflow: auto !important; height: 189px !important; width: 100% !important; border: 1px solid rgb(207, 207, 207) !important; border-collapse: collapse !important; ; color: var(--jp-ui-font-color1) !important; }\n",
       "      th.tdhistory200440 { border: 1px solid rgb(198,198,198) !important; border-collapse: collapse !important; ; padding: 2px 5px !important; ; font-size: 13px !important; ; text-align: center !important; white-space: normal !important; color: var(--jp-ui-font-color1) !important; }\n",
       "      th.tdhistory200440:last-child { text-align: left !important; }\n",
       "      tbody.tdhistory200440 tr:nth-child(even) { background: rgba(243, 243, 243, 0.75) !important; }\n",
       "      tbody.tdhistory200440 tr:nth-child(odd) { background: var(--jp-ui-inverse-font-color1) !important; }\n",
       "      td.tdhistory200440 { border: 1px solid rgb(207, 207, 207) !important; border-collapse: collapse !important; ; padding: 2px 5px !important; ; font-size: 13px !important; ; text-align: left !important;          white-space: nowrap !important; overflow:hidden !important; text-overflow:ellipsis !important;; }\n",
       "    </style><thead><tr style= \"background: rgba(243, 243, 243, 0.75)\"><th class=\"tdhistory200440\"></th><th class=\"tdhistory200440\">CUSTOMER_ID</th><th class=\"tdhistory200440\">DATESTAMP</th><th class=\"tdhistory200440\">EVENT</th><th class=\"tdhistory200440\">CHURN_FLAG</th></tr></thead><tbody class=\"tdhistory200440 resultset-body\"><tr><th class=\"tdhistory200440\" style= \"background: rgba(243, 243, 243, 0.75)\">1</th><td class=\"tdhistory200440\">64497</td><td class=\"tdhistory200440\">2018-03-18 10:25:00.000000</td><td class=\"tdhistory200440\">Return Policy Inquiry</td><td class=\"tdhistory200440\">Y</td></tr><tr><th class=\"tdhistory200440\" style= \"background: rgba(243, 243, 243, 0.75)\">2</th><td class=\"tdhistory200440\">64497</td><td class=\"tdhistory200440\">2018-03-18 10:25:00.000000</td><td class=\"tdhistory200440\">Complaint Call</td><td class=\"tdhistory200440\">Y</td></tr><tr><th class=\"tdhistory200440\" style= \"background: rgba(243, 243, 243, 0.75)\">3</th><td class=\"tdhistory200440\">64497</td><td class=\"tdhistory200440\">2018-03-18 10:29:00.000000</td><td class=\"tdhistory200440\">Product Browsing</td><td class=\"tdhistory200440\">Y</td></tr><tr><th class=\"tdhistory200440\" style= \"background: rgba(243, 243, 243, 0.75)\">4</th><td class=\"tdhistory200440\">64497</td><td class=\"tdhistory200440\">2018-03-19 23:44:00.000000</td><td class=\"tdhistory200440\">Web Chat</td><td class=\"tdhistory200440\">Y</td></tr><tr><th class=\"tdhistory200440\" style= \"background: rgba(243, 243, 243, 0.75)\">5</th><td class=\"tdhistory200440\">64497</td><td class=\"tdhistory200440\">2018-03-21 14:16:00.000000</td><td class=\"tdhistory200440\">Product Return</td><td class=\"tdhistory200440\">Y</td></tr></tbody></table></div>"
      ]
     },
     "execution_count": 17,
     "metadata": {
      "application/vnd.teradata.resultset": "{\"resultSetID\":\"/home/jovyan/JupyterLabRoot/Teradata/Resultsets/2023.07.23_01.33.00.650_UTC\",\"historyID\":96,\"chunkID\":\"00001\",\"sessionid\":\"\",\"portnum\":\"\",\"dockermode\":\"docker\",\"totalRowCount\":5,\"chunkCount\":0,\"rowLimit\":0,\"columnMetadata\":[{\"columnName\":\"CUSTOMER_ID\",\"columnTypeName\":\"DECIMAL\",\"precision\":18},{\"columnNumber\":1,\"columnName\":\"DATESTAMP\",\"columnTypeName\":\"TIMESTAMP\",\"length\":6,\"scale\":6},{\"columnNumber\":2,\"columnName\":\"EVENT\",\"columnTypeName\":\"VARCHAR\",\"length\":50,\"scale\":50},{\"columnNumber\":3,\"columnName\":\"CHURN_FLAG\",\"columnTypeName\":\"VARCHAR\",\"length\":1,\"scale\":1}]}"
     },
     "output_type": "execute_result"
    }
   ],
   "source": [
    "SELECT * FROM RETAIL_COMPNEW WHERE CUSTOMER_ID=64497 ORDER BY DATESTAMP; "
   ]
  },
  {
   "cell_type": "code",
   "execution_count": 18,
   "id": "63c06ecc-7b1b-455a-8095-92059cb6ec92",
   "metadata": {},
   "outputs": [
    {
     "data": {
      "application/vnd.teradata.resultset": "\"NCLI\",\"N\"\n\"8095\",\"27771\"",
      "text/html": [
       "<div class = \"td-resultset-table-div\" style = \"max-height: 100%; overflow-y: auto\">\n",
       "      <table class=\"tdhistory927176\"><style>\n",
       "      table.tdhistory927176 { display: block !important; min-height: 105px !important; overflow: auto !important; height: 105px !important; width: 100% !important; border: 1px solid rgb(207, 207, 207) !important; border-collapse: collapse !important; ; color: var(--jp-ui-font-color1) !important; }\n",
       "      th.tdhistory927176 { border: 1px solid rgb(198,198,198) !important; border-collapse: collapse !important; ; padding: 2px 5px !important; ; font-size: 13px !important; ; text-align: center !important; white-space: normal !important; color: var(--jp-ui-font-color1) !important; }\n",
       "      th.tdhistory927176:last-child { text-align: left !important; }\n",
       "      tbody.tdhistory927176 tr:nth-child(even) { background: rgba(243, 243, 243, 0.75) !important; }\n",
       "      tbody.tdhistory927176 tr:nth-child(odd) { background: var(--jp-ui-inverse-font-color1) !important; }\n",
       "      td.tdhistory927176 { border: 1px solid rgb(207, 207, 207) !important; border-collapse: collapse !important; ; padding: 2px 5px !important; ; font-size: 13px !important; ; text-align: left !important;          white-space: nowrap !important; overflow:hidden !important; text-overflow:ellipsis !important;; }\n",
       "    </style><thead><tr style= \"background: rgba(243, 243, 243, 0.75)\"><th class=\"tdhistory927176\"></th><th class=\"tdhistory927176\">NCLI</th><th class=\"tdhistory927176\">N</th></tr></thead><tbody class=\"tdhistory927176 resultset-body\"><tr><th class=\"tdhistory927176\" style= \"background: rgba(243, 243, 243, 0.75)\">1</th><td class=\"tdhistory927176\">8095</td><td class=\"tdhistory927176\">27771</td></tr></tbody></table></div>"
      ]
     },
     "execution_count": 18,
     "metadata": {
      "application/vnd.teradata.resultset": "{\"resultSetID\":\"/home/jovyan/JupyterLabRoot/Teradata/Resultsets/2023.07.23_01.33.13.074_UTC\",\"historyID\":97,\"chunkID\":\"00001\",\"sessionid\":\"\",\"portnum\":\"\",\"dockermode\":\"docker\",\"totalRowCount\":1,\"chunkCount\":0,\"rowLimit\":0,\"columnMetadata\":[{\"columnName\":\"NCLI\",\"columnTypeName\":\"INTEGER\"},{\"columnNumber\":1,\"columnName\":\"N\",\"columnTypeName\":\"INTEGER\"}]}"
     },
     "output_type": "execute_result"
    }
   ],
   "source": [
    "SELECT COUNT(DISTINCT CUSTOMER_ID) NCLI, COUNT(1) N FROM  RETAIL_COMPNEW;"
   ]
  },
  {
   "cell_type": "code",
   "execution_count": 23,
   "id": "1ec92bb2-7f7b-4b22-b759-6697040b091d",
   "metadata": {},
   "outputs": [
    {
     "data": {
      "application/vnd.teradata.resultset": "\"EVENT\",\"N\"\n\"Web Chat\",\"4009\"\n\"Product Browsing\",\"3988\"\n\"Return Policy Inquiry\",\"3773\"\n\"Purchase\",\"3122\"\n\"Store Visit\",\"2378\"\n\"Product Return\",\"2282\"\n\"Complaint Call\",\"2155\"\n\"Online Feedback\",\"2083\"\n\"Neutral Call\",\"2036\"\n\"Service Inquiry\",\"1945\"",
      "text/html": [
       "<div class = \"td-resultset-table-div\" style = \"max-height: 100%; overflow-y: auto\">\n",
       "      <table class=\"tdhistory630274\"><style>\n",
       "      table.tdhistory630274 { display: block !important; min-height: 294px !important; overflow: auto !important; height: 294px !important; width: 100% !important; border: 1px solid rgb(207, 207, 207) !important; border-collapse: collapse !important; ; color: var(--jp-ui-font-color1) !important; }\n",
       "      th.tdhistory630274 { border: 1px solid rgb(198,198,198) !important; border-collapse: collapse !important; ; padding: 2px 5px !important; ; font-size: 13px !important; ; text-align: center !important; white-space: normal !important; color: var(--jp-ui-font-color1) !important; }\n",
       "      th.tdhistory630274:last-child { text-align: left !important; }\n",
       "      tbody.tdhistory630274 tr:nth-child(even) { background: rgba(243, 243, 243, 0.75) !important; }\n",
       "      tbody.tdhistory630274 tr:nth-child(odd) { background: var(--jp-ui-inverse-font-color1) !important; }\n",
       "      td.tdhistory630274 { border: 1px solid rgb(207, 207, 207) !important; border-collapse: collapse !important; ; padding: 2px 5px !important; ; font-size: 13px !important; ; text-align: left !important;          white-space: nowrap !important; overflow:hidden !important; text-overflow:ellipsis !important;; }\n",
       "    </style><thead><tr style= \"background: rgba(243, 243, 243, 0.75)\"><th class=\"tdhistory630274\"></th><th class=\"tdhistory630274\">EVENT</th><th class=\"tdhistory630274\">N</th></tr></thead><tbody class=\"tdhistory630274 resultset-body\"><tr><th class=\"tdhistory630274\" style= \"background: rgba(243, 243, 243, 0.75)\">1</th><td class=\"tdhistory630274\">Web Chat</td><td class=\"tdhistory630274\">4009</td></tr><tr><th class=\"tdhistory630274\" style= \"background: rgba(243, 243, 243, 0.75)\">2</th><td class=\"tdhistory630274\">Product Browsing</td><td class=\"tdhistory630274\">3988</td></tr><tr><th class=\"tdhistory630274\" style= \"background: rgba(243, 243, 243, 0.75)\">3</th><td class=\"tdhistory630274\">Return Policy Inquiry</td><td class=\"tdhistory630274\">3773</td></tr><tr><th class=\"tdhistory630274\" style= \"background: rgba(243, 243, 243, 0.75)\">4</th><td class=\"tdhistory630274\">Purchase</td><td class=\"tdhistory630274\">3122</td></tr><tr><th class=\"tdhistory630274\" style= \"background: rgba(243, 243, 243, 0.75)\">5</th><td class=\"tdhistory630274\">Store Visit</td><td class=\"tdhistory630274\">2378</td></tr><tr><th class=\"tdhistory630274\" style= \"background: rgba(243, 243, 243, 0.75)\">6</th><td class=\"tdhistory630274\">Product Return</td><td class=\"tdhistory630274\">2282</td></tr><tr><th class=\"tdhistory630274\" style= \"background: rgba(243, 243, 243, 0.75)\">7</th><td class=\"tdhistory630274\">Complaint Call</td><td class=\"tdhistory630274\">2155</td></tr><tr><th class=\"tdhistory630274\" style= \"background: rgba(243, 243, 243, 0.75)\">8</th><td class=\"tdhistory630274\">Online Feedback</td><td class=\"tdhistory630274\">2083</td></tr><tr><th class=\"tdhistory630274\" style= \"background: rgba(243, 243, 243, 0.75)\">9</th><td class=\"tdhistory630274\">Neutral Call</td><td class=\"tdhistory630274\">2036</td></tr><tr><th class=\"tdhistory630274\" style= \"background: rgba(243, 243, 243, 0.75)\">10</th><td class=\"tdhistory630274\">Service Inquiry</td><td class=\"tdhistory630274\">1945</td></tr></tbody></table></div>"
      ]
     },
     "execution_count": 23,
     "metadata": {
      "application/vnd.teradata.resultset": "{\"resultSetID\":\"/home/jovyan/JupyterLabRoot/Teradata/Resultsets/2023.07.23_01.53.01.629_UTC\",\"historyID\":102,\"chunkID\":\"00001\",\"sessionid\":\"\",\"portnum\":\"\",\"dockermode\":\"docker\",\"totalRowCount\":10,\"chunkCount\":0,\"rowLimit\":0,\"columnMetadata\":[{\"columnName\":\"EVENT\",\"columnTypeName\":\"VARCHAR\",\"length\":50,\"scale\":50},{\"columnNumber\":1,\"columnName\":\"N\",\"columnTypeName\":\"INTEGER\"}]}"
     },
     "output_type": "execute_result"
    }
   ],
   "source": [
    "SELECT EVENT, COUNT(1) N FROM  RETAIL_COMPNEW GROUP BY 1 ORDER BY 2 DESC;"
   ]
  },
  {
   "cell_type": "markdown",
   "id": "94ae3267-fdbb-432a-8229-37df3d2bb642",
   "metadata": {},
   "source": [
    "### Sessionization"
   ]
  },
  {
   "cell_type": "code",
   "execution_count": 19,
   "id": "6c66259f-db88-4b6b-9b1c-49e1e7c08917",
   "metadata": {},
   "outputs": [
    {
     "data": {
      "text/plain": [
       "Success: 0 rows affected"
      ]
     },
     "execution_count": 19,
     "metadata": {
      "application/vnd.teradata.resultset": ""
     },
     "output_type": "execute_result"
    }
   ],
   "source": [
    "CREATE MULTISET TABLE DAILY_SESSIONS_CHURN AS(\n",
    "    SELECT * FROM SESSIONIZE\n",
    "         (ON (SELECT * FROM RETAIL_COMPNEW WHERE CHURN_FLAG = 'Y')\n",
    "             PARTITION BY CUSTOMER_ID ORDER BY DATESTAMP\n",
    "               USING\n",
    "               TIMECOLUMN('DATESTAMP')\n",
    "               TIMEOUT(604800) \n",
    "               ) AS DT) WITH DATA;"
   ]
  },
  {
   "cell_type": "code",
   "execution_count": 20,
   "id": "03e52bb2-26b3-4cda-bf98-51c1b8d28196",
   "metadata": {},
   "outputs": [
    {
     "data": {
      "application/vnd.teradata.resultset": "\"CUSTOMER_ID\",\"DATESTAMP\",\"EVENT\",\"CHURN_FLAG\",\"SESSIONID\"\n\"64497\",\"2018-03-18 10:25:00.000000\",\"Return Policy Inquiry\",\"Y\",\"0\"\n\"64497\",\"2018-03-18 10:25:00.000000\",\"Complaint Call\",\"Y\",\"0\"\n\"64497\",\"2018-03-18 10:29:00.000000\",\"Product Browsing\",\"Y\",\"0\"\n\"64497\",\"2018-03-19 23:44:00.000000\",\"Web Chat\",\"Y\",\"0\"\n\"64497\",\"2018-03-21 14:16:00.000000\",\"Product Return\",\"Y\",\"0\"",
      "text/html": [
       "<div class = \"td-resultset-table-div\" style = \"max-height: 100%; overflow-y: auto\">\n",
       "      <table class=\"tdhistory130067\"><style>\n",
       "      table.tdhistory130067 { display: block !important; min-height: 189px !important; overflow: auto !important; height: 189px !important; width: 100% !important; border: 1px solid rgb(207, 207, 207) !important; border-collapse: collapse !important; ; color: var(--jp-ui-font-color1) !important; }\n",
       "      th.tdhistory130067 { border: 1px solid rgb(198,198,198) !important; border-collapse: collapse !important; ; padding: 2px 5px !important; ; font-size: 13px !important; ; text-align: center !important; white-space: normal !important; color: var(--jp-ui-font-color1) !important; }\n",
       "      th.tdhistory130067:last-child { text-align: left !important; }\n",
       "      tbody.tdhistory130067 tr:nth-child(even) { background: rgba(243, 243, 243, 0.75) !important; }\n",
       "      tbody.tdhistory130067 tr:nth-child(odd) { background: var(--jp-ui-inverse-font-color1) !important; }\n",
       "      td.tdhistory130067 { border: 1px solid rgb(207, 207, 207) !important; border-collapse: collapse !important; ; padding: 2px 5px !important; ; font-size: 13px !important; ; text-align: left !important;          white-space: nowrap !important; overflow:hidden !important; text-overflow:ellipsis !important;; }\n",
       "    </style><thead><tr style= \"background: rgba(243, 243, 243, 0.75)\"><th class=\"tdhistory130067\"></th><th class=\"tdhistory130067\">CUSTOMER_ID</th><th class=\"tdhistory130067\">DATESTAMP</th><th class=\"tdhistory130067\">EVENT</th><th class=\"tdhistory130067\">CHURN_FLAG</th><th class=\"tdhistory130067\">SESSIONID</th></tr></thead><tbody class=\"tdhistory130067 resultset-body\"><tr><th class=\"tdhistory130067\" style= \"background: rgba(243, 243, 243, 0.75)\">1</th><td class=\"tdhistory130067\">64497</td><td class=\"tdhistory130067\">2018-03-18 10:25:00.000000</td><td class=\"tdhistory130067\">Return Policy Inquiry</td><td class=\"tdhistory130067\">Y</td><td class=\"tdhistory130067\">0</td></tr><tr><th class=\"tdhistory130067\" style= \"background: rgba(243, 243, 243, 0.75)\">2</th><td class=\"tdhistory130067\">64497</td><td class=\"tdhistory130067\">2018-03-18 10:25:00.000000</td><td class=\"tdhistory130067\">Complaint Call</td><td class=\"tdhistory130067\">Y</td><td class=\"tdhistory130067\">0</td></tr><tr><th class=\"tdhistory130067\" style= \"background: rgba(243, 243, 243, 0.75)\">3</th><td class=\"tdhistory130067\">64497</td><td class=\"tdhistory130067\">2018-03-18 10:29:00.000000</td><td class=\"tdhistory130067\">Product Browsing</td><td class=\"tdhistory130067\">Y</td><td class=\"tdhistory130067\">0</td></tr><tr><th class=\"tdhistory130067\" style= \"background: rgba(243, 243, 243, 0.75)\">4</th><td class=\"tdhistory130067\">64497</td><td class=\"tdhistory130067\">2018-03-19 23:44:00.000000</td><td class=\"tdhistory130067\">Web Chat</td><td class=\"tdhistory130067\">Y</td><td class=\"tdhistory130067\">0</td></tr><tr><th class=\"tdhistory130067\" style= \"background: rgba(243, 243, 243, 0.75)\">5</th><td class=\"tdhistory130067\">64497</td><td class=\"tdhistory130067\">2018-03-21 14:16:00.000000</td><td class=\"tdhistory130067\">Product Return</td><td class=\"tdhistory130067\">Y</td><td class=\"tdhistory130067\">0</td></tr></tbody></table></div>"
      ]
     },
     "execution_count": 20,
     "metadata": {
      "application/vnd.teradata.resultset": "{\"resultSetID\":\"/home/jovyan/JupyterLabRoot/Teradata/Resultsets/2023.07.23_01.50.11.299_UTC\",\"historyID\":99,\"chunkID\":\"00001\",\"sessionid\":\"\",\"portnum\":\"\",\"dockermode\":\"docker\",\"totalRowCount\":5,\"chunkCount\":0,\"rowLimit\":0,\"columnMetadata\":[{\"columnName\":\"CUSTOMER_ID\",\"columnTypeName\":\"DECIMAL\",\"precision\":18},{\"columnNumber\":1,\"columnName\":\"DATESTAMP\",\"columnTypeName\":\"TIMESTAMP\",\"length\":6,\"scale\":6},{\"columnNumber\":2,\"columnName\":\"EVENT\",\"columnTypeName\":\"VARCHAR\",\"length\":50,\"scale\":50},{\"columnNumber\":3,\"columnName\":\"CHURN_FLAG\",\"columnTypeName\":\"VARCHAR\",\"length\":1,\"scale\":1},{\"columnNumber\":4,\"columnName\":\"SESSIONID\",\"columnTypeName\":\"INTEGER\"}]}"
     },
     "output_type": "execute_result"
    }
   ],
   "source": [
    "SELECT * FROM  DAILY_SESSIONS_CHURN ORDER BY 2 ASC WHERE CUSTOMER_ID=64497;"
   ]
  },
  {
   "cell_type": "markdown",
   "id": "cdaab860-203a-449d-a06c-b5932a672541",
   "metadata": {},
   "source": [
    "### nPath Analysis\n",
    "Building Event Sequences leading to Product Return"
   ]
  },
  {
   "cell_type": "code",
   "execution_count": 21,
   "id": "e44dc284-cfc0-421a-9b94-8ad78ea6615d",
   "metadata": {},
   "outputs": [
    {
     "data": {
      "text/plain": [
       "Success: 0 rows affected"
      ]
     },
     "execution_count": 21,
     "metadata": {
      "application/vnd.teradata.resultset": ""
     },
     "output_type": "execute_result"
    }
   ],
   "source": [
    "CREATE MULTISET TABLE NPATH_CHURN AS (SELECT * FROM NPATH\n",
    "(ON DAILY_SESSIONS_CHURN PARTITION BY CUSTOMER_ID, SESSIONID ORDER BY DATESTAMP\n",
    "    USING\n",
    "    MODE(NONOVERLAPPING)\n",
    "    PATTERN('E{1,4}.C')\n",
    "    SYMBOLS\n",
    "    (EVENT = 'Product Return'  AS C \n",
    "     ,EVENT <> 'Product Return' AS E)\n",
    "    RESULT\n",
    "    (   FIRST(CUSTOMER_ID OF ANY(E,C))    AS CUSTOMER_ID\n",
    "       ,FIRST(DATESTAMP OF ANY(E,C))    AS DS_START\n",
    "       ,LAST(DATESTAMP OF ANY(E,C))     AS DS_END\n",
    "       ,COUNT(* OF E)                   AS EVENT_CNT\n",
    "      ,ACCUMULATE(EVENT OF ANY(E,C))    AS PATH)\n",
    ") AS DT) WITH DATA;"
   ]
  },
  {
   "cell_type": "code",
   "execution_count": 22,
   "id": "e607da87-7c57-4186-b478-ba9a65576e48",
   "metadata": {},
   "outputs": [
    {
     "data": {
      "application/vnd.teradata.resultset": "\"customer_id\",\"ds_start\",\"ds_end\",\"event_cnt\",\"path\"\n\"64497\",\"2018-03-18 10:25:00.000000\",\"2018-03-21 14:16:00.000000\",\"4\",\"[Return Policy Inquiry, Complaint Call, Product Browsing, Web Chat, Product Return]\"",
      "text/html": [
       "<div class = \"td-resultset-table-div\" style = \"max-height: 100%; overflow-y: auto\">\n",
       "      <table class=\"tdhistory472636\"><style>\n",
       "      table.tdhistory472636 { display: block !important; min-height: 105px !important; overflow: auto !important; height: 105px !important; width: 100% !important; border: 1px solid rgb(207, 207, 207) !important; border-collapse: collapse !important; ; color: var(--jp-ui-font-color1) !important; }\n",
       "      th.tdhistory472636 { border: 1px solid rgb(198,198,198) !important; border-collapse: collapse !important; ; padding: 2px 5px !important; ; font-size: 13px !important; ; text-align: center !important; white-space: normal !important; color: var(--jp-ui-font-color1) !important; }\n",
       "      th.tdhistory472636:last-child { text-align: left !important; }\n",
       "      tbody.tdhistory472636 tr:nth-child(even) { background: rgba(243, 243, 243, 0.75) !important; }\n",
       "      tbody.tdhistory472636 tr:nth-child(odd) { background: var(--jp-ui-inverse-font-color1) !important; }\n",
       "      td.tdhistory472636 { border: 1px solid rgb(207, 207, 207) !important; border-collapse: collapse !important; ; padding: 2px 5px !important; ; font-size: 13px !important; ; text-align: left !important;          white-space: nowrap !important; overflow:hidden !important; text-overflow:ellipsis !important;; }\n",
       "    </style><thead><tr style= \"background: rgba(243, 243, 243, 0.75)\"><th class=\"tdhistory472636\"></th><th class=\"tdhistory472636\">customer_id</th><th class=\"tdhistory472636\">ds_start</th><th class=\"tdhistory472636\">ds_end</th><th class=\"tdhistory472636\">event_cnt</th><th class=\"tdhistory472636\">path</th></tr></thead><tbody class=\"tdhistory472636 resultset-body\"><tr><th class=\"tdhistory472636\" style= \"background: rgba(243, 243, 243, 0.75)\">1</th><td class=\"tdhistory472636\">64497</td><td class=\"tdhistory472636\">2018-03-18 10:25:00.000000</td><td class=\"tdhistory472636\">2018-03-21 14:16:00.000000</td><td class=\"tdhistory472636\">4</td><td class=\"tdhistory472636\">[Return Policy Inquiry, Complaint Call, Product Browsing, Web Chat, Product Return]</td></tr></tbody></table></div>"
      ]
     },
     "execution_count": 22,
     "metadata": {
      "application/vnd.teradata.resultset": "{\"resultSetID\":\"/home/jovyan/JupyterLabRoot/Teradata/Resultsets/2023.07.23_01.51.50.871_UTC\",\"historyID\":101,\"chunkID\":\"00001\",\"sessionid\":\"\",\"portnum\":\"\",\"dockermode\":\"docker\",\"totalRowCount\":1,\"chunkCount\":0,\"rowLimit\":0,\"columnMetadata\":[{\"columnName\":\"customer_id\",\"columnTypeName\":\"DECIMAL\",\"precision\":18},{\"columnNumber\":1,\"columnName\":\"ds_start\",\"columnTypeName\":\"TIMESTAMP\",\"length\":6,\"scale\":6},{\"columnNumber\":2,\"columnName\":\"ds_end\",\"columnTypeName\":\"TIMESTAMP\",\"length\":6,\"scale\":6},{\"columnNumber\":3,\"columnName\":\"event_cnt\",\"columnTypeName\":\"INTEGER\"},{\"columnNumber\":4,\"columnName\":\"path\",\"columnTypeName\":\"LONG VARCHAR\",\"length\":64000,\"scale\":64000}]}"
     },
     "output_type": "execute_result"
    }
   ],
   "source": [
    "SELECT * FROM NPATH_CHURN WHERE CUSTOMER_ID=64497;"
   ]
  },
  {
   "cell_type": "markdown",
   "id": "339b4cc5-1925-49e4-b93e-094cab4e36b4",
   "metadata": {},
   "source": [
    "### Most Frequent Routes to Product Return"
   ]
  },
  {
   "cell_type": "code",
   "execution_count": 24,
   "id": "3c29cfc2-10f0-4761-9a0a-b1d4e9d24e73",
   "metadata": {},
   "outputs": [
    {
     "data": {
      "text/plain": [
       "Success: 0 rows affected"
      ]
     },
     "execution_count": 24,
     "metadata": {
      "application/vnd.teradata.resultset": ""
     },
     "output_type": "execute_result"
    }
   ],
   "source": [
    "CREATE TABLE PATH_TAB AS\n",
    "(SELECT TOP 100 path, COUNT(*) AS cnt\n",
    "FROM NPATH_CHURN\n",
    "GROUP BY path\n",
    "ORDER BY cnt DESC)\n",
    "WITH DATA;"
   ]
  },
  {
   "cell_type": "code",
   "execution_count": 25,
   "id": "0fc5f03b-1c8d-43cf-be9d-450dcc13536b",
   "metadata": {},
   "outputs": [
    {
     "data": {
      "application/vnd.teradata.resultset": "\"path\",\"cnt\"\n\"[Product Browsing, Product Return]\",\"47\"\n\"[Online Feedback, Product Return]\",\"46\"\n\"[Web Chat, Product Return]\",\"43\"\n\"[Store Visit, Product Return]\",\"35\"\n\"[Return Policy Inquiry, Product Return]\",\"30\"\n\"[Complaint Call, Product Return]\",\"27\"\n\"[Complaint Call, Product Browsing, Product Return]\",\"20\"\n\"[Online Feedback, Web Chat, Product Return]\",\"19\"\n\"[Online Feedback, Product Browsing, Product Return]\",\"16\"\n\"[Web Chat, Product Browsing, Product Return]\",\"16\"\n\"[Complaint Call, Return Policy Inquiry, Online Feedback, Product Browsing, Product Return]\",\"16\"\n\"[Product Browsing, Complaint Call, Product Return]\",\"15\"\n\"[Complaint Call, Online Feedback, Return Policy Inquiry, Product Browsing, Product Return]\",\"15\"\n\"[Online Feedback, Store Visit, Product Return]\",\"15\"\n\"[Store Visit, Complaint Call, Product Return]\",\"14\"\n\"[Complaint Call, Web Chat, Product Browsing, Return Policy Inquiry, Product Return]\",\"14\"\n\"[Online Feedback, Product Browsing, Web Chat, Complaint Call, Product Return]\",\"14\"\n\"[Complaint Call, Return Policy Inquiry, Web Chat, Store Visit, Product Return]\",\"13\"\n\"[Product Browsing, Online Feedback, Complaint Call, Return Policy Inquiry, Product Return]\",\"13\"\n\"[Web Chat, Complaint Call, Product Return]\",\"13\"",
      "text/html": [
       "<div class = \"td-resultset-table-div\" style = \"max-height: 100%; overflow-y: auto\">\n",
       "      <table class=\"tdhistory112602\"><style>\n",
       "      table.tdhistory112602 { display: block !important; min-height: 504px !important; overflow: auto !important; height: 504px !important; width: 100% !important; border: 1px solid rgb(207, 207, 207) !important; border-collapse: collapse !important; ; color: var(--jp-ui-font-color1) !important; }\n",
       "      th.tdhistory112602 { border: 1px solid rgb(198,198,198) !important; border-collapse: collapse !important; ; padding: 2px 5px !important; ; font-size: 13px !important; ; text-align: center !important; white-space: normal !important; color: var(--jp-ui-font-color1) !important; }\n",
       "      th.tdhistory112602:last-child { text-align: left !important; }\n",
       "      tbody.tdhistory112602 tr:nth-child(even) { background: rgba(243, 243, 243, 0.75) !important; }\n",
       "      tbody.tdhistory112602 tr:nth-child(odd) { background: var(--jp-ui-inverse-font-color1) !important; }\n",
       "      td.tdhistory112602 { border: 1px solid rgb(207, 207, 207) !important; border-collapse: collapse !important; ; padding: 2px 5px !important; ; font-size: 13px !important; ; text-align: left !important;          white-space: nowrap !important; overflow:hidden !important; text-overflow:ellipsis !important;; }\n",
       "    </style><thead><tr style= \"background: rgba(243, 243, 243, 0.75)\"><th class=\"tdhistory112602\"></th><th class=\"tdhistory112602\">path</th><th class=\"tdhistory112602\">cnt</th></tr></thead><tbody class=\"tdhistory112602 resultset-body\"><tr><th class=\"tdhistory112602\" style= \"background: rgba(243, 243, 243, 0.75)\">1</th><td class=\"tdhistory112602\">[Product Browsing, Product Return]</td><td class=\"tdhistory112602\">47</td></tr><tr><th class=\"tdhistory112602\" style= \"background: rgba(243, 243, 243, 0.75)\">2</th><td class=\"tdhistory112602\">[Online Feedback, Product Return]</td><td class=\"tdhistory112602\">46</td></tr><tr><th class=\"tdhistory112602\" style= \"background: rgba(243, 243, 243, 0.75)\">3</th><td class=\"tdhistory112602\">[Web Chat, Product Return]</td><td class=\"tdhistory112602\">43</td></tr><tr><th class=\"tdhistory112602\" style= \"background: rgba(243, 243, 243, 0.75)\">4</th><td class=\"tdhistory112602\">[Store Visit, Product Return]</td><td class=\"tdhistory112602\">35</td></tr><tr><th class=\"tdhistory112602\" style= \"background: rgba(243, 243, 243, 0.75)\">5</th><td class=\"tdhistory112602\">[Return Policy Inquiry, Product Return]</td><td class=\"tdhistory112602\">30</td></tr><tr><th class=\"tdhistory112602\" style= \"background: rgba(243, 243, 243, 0.75)\">6</th><td class=\"tdhistory112602\">[Complaint Call, Product Return]</td><td class=\"tdhistory112602\">27</td></tr><tr><th class=\"tdhistory112602\" style= \"background: rgba(243, 243, 243, 0.75)\">7</th><td class=\"tdhistory112602\">[Complaint Call, Product Browsing, Product Return]</td><td class=\"tdhistory112602\">20</td></tr><tr><th class=\"tdhistory112602\" style= \"background: rgba(243, 243, 243, 0.75)\">8</th><td class=\"tdhistory112602\">[Online Feedback, Web Chat, Product Return]</td><td class=\"tdhistory112602\">19</td></tr><tr><th class=\"tdhistory112602\" style= \"background: rgba(243, 243, 243, 0.75)\">9</th><td class=\"tdhistory112602\">[Online Feedback, Product Browsing, Product Return]</td><td class=\"tdhistory112602\">16</td></tr><tr><th class=\"tdhistory112602\" style= \"background: rgba(243, 243, 243, 0.75)\">10</th><td class=\"tdhistory112602\">[Web Chat, Product Browsing, Product Return]</td><td class=\"tdhistory112602\">16</td></tr><tr><th class=\"tdhistory112602\" style= \"background: rgba(243, 243, 243, 0.75)\">11</th><td class=\"tdhistory112602\">[Complaint Call, Return Policy Inquiry, Online Feedback, Product Browsing, Product Return]</td><td class=\"tdhistory112602\">16</td></tr><tr><th class=\"tdhistory112602\" style= \"background: rgba(243, 243, 243, 0.75)\">12</th><td class=\"tdhistory112602\">[Product Browsing, Complaint Call, Product Return]</td><td class=\"tdhistory112602\">15</td></tr><tr><th class=\"tdhistory112602\" style= \"background: rgba(243, 243, 243, 0.75)\">13</th><td class=\"tdhistory112602\">[Complaint Call, Online Feedback, Return Policy Inquiry, Product Browsing, Product Return]</td><td class=\"tdhistory112602\">15</td></tr><tr><th class=\"tdhistory112602\" style= \"background: rgba(243, 243, 243, 0.75)\">14</th><td class=\"tdhistory112602\">[Online Feedback, Store Visit, Product Return]</td><td class=\"tdhistory112602\">15</td></tr><tr><th class=\"tdhistory112602\" style= \"background: rgba(243, 243, 243, 0.75)\">15</th><td class=\"tdhistory112602\">[Store Visit, Complaint Call, Product Return]</td><td class=\"tdhistory112602\">14</td></tr><tr><th class=\"tdhistory112602\" style= \"background: rgba(243, 243, 243, 0.75)\">16</th><td class=\"tdhistory112602\">[Complaint Call, Web Chat, Product Browsing, Return Policy Inquiry, Product Return]</td><td class=\"tdhistory112602\">14</td></tr><tr><th class=\"tdhistory112602\" style= \"background: rgba(243, 243, 243, 0.75)\">17</th><td class=\"tdhistory112602\">[Online Feedback, Product Browsing, Web Chat, Complaint Call, Product Return]</td><td class=\"tdhistory112602\">14</td></tr><tr><th class=\"tdhistory112602\" style= \"background: rgba(243, 243, 243, 0.75)\">18</th><td class=\"tdhistory112602\">[Complaint Call, Return Policy Inquiry, Web Chat, Store Visit, Product Return]</td><td class=\"tdhistory112602\">13</td></tr><tr><th class=\"tdhistory112602\" style= \"background: rgba(243, 243, 243, 0.75)\">19</th><td class=\"tdhistory112602\">[Product Browsing, Online Feedback, Complaint Call, Return Policy Inquiry, Product Return]</td><td class=\"tdhistory112602\">13</td></tr><tr><th class=\"tdhistory112602\" style= \"background: rgba(243, 243, 243, 0.75)\">20</th><td class=\"tdhistory112602\">[Web Chat, Complaint Call, Product Return]</td><td class=\"tdhistory112602\">13</td></tr></tbody></table></div>"
      ]
     },
     "execution_count": 25,
     "metadata": {
      "application/vnd.teradata.resultset": "{\"resultSetID\":\"/home/jovyan/JupyterLabRoot/Teradata/Resultsets/2023.07.23_01.53.31.426_UTC\",\"historyID\":104,\"chunkID\":\"00001\",\"sessionid\":\"\",\"portnum\":\"\",\"dockermode\":\"docker\",\"totalRowCount\":20,\"chunkCount\":0,\"rowLimit\":0,\"columnMetadata\":[{\"columnName\":\"path\",\"columnTypeName\":\"LONG VARCHAR\",\"length\":64000,\"scale\":64000},{\"columnNumber\":1,\"columnName\":\"cnt\",\"columnTypeName\":\"INTEGER\"}]}"
     },
     "output_type": "execute_result"
    }
   ],
   "source": [
    "SELECT TOP 10 * FROM PATH_TAB ORDER BY cnt DESC; "
   ]
  },
  {
   "cell_type": "markdown",
   "id": "444e83ad-26a9-4f35-932b-6fdeb343853d",
   "metadata": {},
   "source": [
    "### Finish the Demo"
   ]
  },
  {
   "cell_type": "code",
   "execution_count": null,
   "id": "5f7923e8-6022-4286-81ad-4b4375ed49ed",
   "metadata": {},
   "outputs": [],
   "source": [
    "DROP TABLE CALL_CENTER_CALLS;"
   ]
  },
  {
   "cell_type": "code",
   "execution_count": null,
   "id": "f0cfbe53-db00-4e24-9e40-395f7c2a63d2",
   "metadata": {},
   "outputs": [],
   "source": [
    "DROP TABLE STORE_VISIT;"
   ]
  },
  {
   "cell_type": "code",
   "execution_count": null,
   "id": "b4a5a0bb-2b1f-4759-955f-c1e87b79bed9",
   "metadata": {},
   "outputs": [],
   "source": [
    "DROP TABLE WEB;"
   ]
  },
  {
   "cell_type": "code",
   "execution_count": null,
   "id": "8859f850-e03b-456f-be2e-e94da01e4d30",
   "metadata": {},
   "outputs": [],
   "source": [
    "DROP TABLE STORE;"
   ]
  },
  {
   "cell_type": "code",
   "execution_count": null,
   "id": "8b5b4de4-4ead-44e4-b229-c437f468553b",
   "metadata": {},
   "outputs": [],
   "source": [
    "DROP TABLE CUSTOMER;"
   ]
  },
  {
   "cell_type": "code",
   "execution_count": null,
   "id": "b648fe72-944e-4d5f-9bae-075a0445c6db",
   "metadata": {},
   "outputs": [],
   "source": [
    "DROP TABLE CUST_COMMENT;"
   ]
  },
  {
   "cell_type": "code",
   "execution_count": null,
   "id": "160eb6e9-0b3a-4da3-931b-605e32fe0305",
   "metadata": {},
   "outputs": [],
   "source": [
    "DROP TABLE SERVER;"
   ]
  },
  {
   "cell_type": "code",
   "execution_count": null,
   "id": "0612dbad-389e-47d2-8408-aebefb8746fc",
   "metadata": {},
   "outputs": [],
   "source": [
    "DROP TABLE RETAIL_COMPNEW;"
   ]
  },
  {
   "cell_type": "code",
   "execution_count": null,
   "id": "4cd80be4-cce3-41fb-94e6-b45b15691635",
   "metadata": {},
   "outputs": [],
   "source": [
    "DROP TABLE DAILY_SESSIONS_CHURN;"
   ]
  },
  {
   "cell_type": "code",
   "execution_count": null,
   "id": "89d616d7-e8e4-4f29-abd8-36cc87a1a047",
   "metadata": {},
   "outputs": [],
   "source": [
    "DROP TABLE NPATH_CHURN;"
   ]
  },
  {
   "cell_type": "code",
   "execution_count": null,
   "id": "314f4522-71b5-48a8-87f2-e4273c523716",
   "metadata": {},
   "outputs": [],
   "source": [
    "DROP TABLE PATH_TAB;"
   ]
  },
  {
   "cell_type": "code",
   "execution_count": null,
   "id": "513cb74d-f684-4f03-9b08-e704b14cffa2",
   "metadata": {},
   "outputs": [],
   "source": [
    "remove_context()"
   ]
  },
  {
   "cell_type": "code",
   "execution_count": null,
   "id": "872aee91-bfda-4c22-8aad-5c6b60e0e36f",
   "metadata": {},
   "outputs": [],
   "source": []
  }
 ],
 "metadata": {
  "kernelspec": {
   "display_name": "Teradata SQL",
   "language": "Teradata SQL",
   "name": "teradatasql"
  },
  "language_info": {
   "codemirror_mode": "Teradata SQL",
   "file_extension": ".tdrs",
   "mimetype": "application/vnd.teradata.resultset",
   "name": "Teradata SQL",
   "nbconvert_exporter": "",
   "pygments_lexer": "",
   "version": "16.20"
  }
 },
 "nbformat": 4,
 "nbformat_minor": 5
}
